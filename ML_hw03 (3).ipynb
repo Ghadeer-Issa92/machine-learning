{
  "cells": [
    {
      "cell_type": "code",
      "execution_count": null,
      "metadata": {
        "id": "NhbQ4mR4cMho"
      },
      "outputs": [],
      "source": [
        "!pip install https://github.com/pandas-profiling/pandas-profiling/archive/master.zip\n",
        "!pip install --upgrade category_encoders"
      ]
    },
    {
      "cell_type": "markdown",
      "metadata": {
        "id": "tnxVKXVNbVS4"
      },
      "source": [
        "# 1-importing necessary libs\n",
        "\n",
        "\n",
        "\n"
      ]
    },
    {
      "cell_type": "code",
      "execution_count": null,
      "metadata": {
        "id": "ofbkwmWcchSN"
      },
      "outputs": [],
      "source": [
        "import pandas as pd \n",
        "import numpy as np\n",
        "import matplotlib.pyplot as plt\n",
        "%matplotlib inline\n",
        "\n",
        "from sklearn.model_selection import train_test_split\n",
        "from sklearn.linear_model import LinearRegression\n",
        "from sklearn.model_selection import cross_val_score\n",
        "from sklearn import metrics"
      ]
    },
    {
      "cell_type": "markdown",
      "metadata": {
        "id": "tiQDsbkXcvC0"
      },
      "source": [
        "##1.1 Read Data with Pandas"
      ]
    },
    {
      "cell_type": "code",
      "execution_count": null,
      "metadata": {
        "id": "h_8BXD0tc4za"
      },
      "outputs": [],
      "source": [
        "bitrate_train_df = pd.read_csv('./bitrate_train.csv', low_memory=False)\n",
        "bitrate_test_df = pd.read_csv('./bitrate_test.csv', low_memory=False)\n"
      ]
    },
    {
      "cell_type": "markdown",
      "metadata": {
        "id": "c2dw2sYgdo0r"
      },
      "source": [
        "## 1.2 Data exploration"
      ]
    },
    {
      "cell_type": "code",
      "execution_count": null,
      "metadata": {
        "colab": {
          "base_uri": "https://localhost:8080/",
          "height": 833
        },
        "id": "G6OnRO9PdydF",
        "outputId": "98dfaf0e-6c36-469c-baf9-97ed8a4646f6"
      },
      "outputs": [
        {
          "data": {
            "text/html": [
              "\n",
              "  <div id=\"df-450bbd82-f0cd-46dd-b9cd-c087d3f1ef9c\">\n",
              "    <div class=\"colab-df-container\">\n",
              "      <div>\n",
              "<style scoped>\n",
              "    .dataframe tbody tr th:only-of-type {\n",
              "        vertical-align: middle;\n",
              "    }\n",
              "\n",
              "    .dataframe tbody tr th {\n",
              "        vertical-align: top;\n",
              "    }\n",
              "\n",
              "    .dataframe thead th {\n",
              "        text-align: right;\n",
              "    }\n",
              "</style>\n",
              "<table border=\"1\" class=\"dataframe\">\n",
              "  <thead>\n",
              "    <tr style=\"text-align: right;\">\n",
              "      <th></th>\n",
              "      <th>fps_mean</th>\n",
              "      <th>fps_std</th>\n",
              "      <th>rtt_mean</th>\n",
              "      <th>rtt_std</th>\n",
              "      <th>dropped_frames_mean</th>\n",
              "      <th>dropped_frames_std</th>\n",
              "      <th>dropped_frames_max</th>\n",
              "      <th>bitrate_mean</th>\n",
              "      <th>bitrate_std</th>\n",
              "      <th>target</th>\n",
              "    </tr>\n",
              "  </thead>\n",
              "  <tbody>\n",
              "    <tr>\n",
              "      <th>0</th>\n",
              "      <td>24.4</td>\n",
              "      <td>0.516398</td>\n",
              "      <td>91.1</td>\n",
              "      <td>6.723921</td>\n",
              "      <td>0.0</td>\n",
              "      <td>0.0</td>\n",
              "      <td>0.0</td>\n",
              "      <td>460.5</td>\n",
              "      <td>7.648529</td>\n",
              "      <td>616.0</td>\n",
              "    </tr>\n",
              "    <tr>\n",
              "      <th>1</th>\n",
              "      <td>28.6</td>\n",
              "      <td>2.065591</td>\n",
              "      <td>99.7</td>\n",
              "      <td>15.923777</td>\n",
              "      <td>0.0</td>\n",
              "      <td>0.0</td>\n",
              "      <td>0.0</td>\n",
              "      <td>616.3</td>\n",
              "      <td>155.414893</td>\n",
              "      <td>565.0</td>\n",
              "    </tr>\n",
              "    <tr>\n",
              "      <th>2</th>\n",
              "      <td>30.0</td>\n",
              "      <td>0.000000</td>\n",
              "      <td>98.1</td>\n",
              "      <td>11.798776</td>\n",
              "      <td>0.0</td>\n",
              "      <td>0.0</td>\n",
              "      <td>0.0</td>\n",
              "      <td>565.2</td>\n",
              "      <td>9.077445</td>\n",
              "      <td>573.0</td>\n",
              "    </tr>\n",
              "    <tr>\n",
              "      <th>3</th>\n",
              "      <td>30.3</td>\n",
              "      <td>0.948683</td>\n",
              "      <td>99.4</td>\n",
              "      <td>13.014522</td>\n",
              "      <td>0.0</td>\n",
              "      <td>0.0</td>\n",
              "      <td>0.0</td>\n",
              "      <td>573.8</td>\n",
              "      <td>28.350191</td>\n",
              "      <td>585.0</td>\n",
              "    </tr>\n",
              "    <tr>\n",
              "      <th>4</th>\n",
              "      <td>29.9</td>\n",
              "      <td>0.316228</td>\n",
              "      <td>123.2</td>\n",
              "      <td>62.476307</td>\n",
              "      <td>0.0</td>\n",
              "      <td>0.0</td>\n",
              "      <td>0.0</td>\n",
              "      <td>585.8</td>\n",
              "      <td>59.458295</td>\n",
              "      <td>555.0</td>\n",
              "    </tr>\n",
              "    <tr>\n",
              "      <th>5</th>\n",
              "      <td>29.5</td>\n",
              "      <td>1.649916</td>\n",
              "      <td>131.2</td>\n",
              "      <td>114.257798</td>\n",
              "      <td>0.0</td>\n",
              "      <td>0.0</td>\n",
              "      <td>0.0</td>\n",
              "      <td>555.2</td>\n",
              "      <td>47.713963</td>\n",
              "      <td>456.0</td>\n",
              "    </tr>\n",
              "    <tr>\n",
              "      <th>6</th>\n",
              "      <td>24.3</td>\n",
              "      <td>0.483046</td>\n",
              "      <td>98.3</td>\n",
              "      <td>16.499495</td>\n",
              "      <td>0.0</td>\n",
              "      <td>0.0</td>\n",
              "      <td>0.0</td>\n",
              "      <td>456.7</td>\n",
              "      <td>9.428680</td>\n",
              "      <td>511.0</td>\n",
              "    </tr>\n",
              "    <tr>\n",
              "      <th>7</th>\n",
              "      <td>24.5</td>\n",
              "      <td>0.971825</td>\n",
              "      <td>141.9</td>\n",
              "      <td>103.814418</td>\n",
              "      <td>0.0</td>\n",
              "      <td>0.0</td>\n",
              "      <td>0.0</td>\n",
              "      <td>511.4</td>\n",
              "      <td>156.318905</td>\n",
              "      <td>675.0</td>\n",
              "    </tr>\n",
              "    <tr>\n",
              "      <th>8</th>\n",
              "      <td>30.0</td>\n",
              "      <td>0.000000</td>\n",
              "      <td>107.5</td>\n",
              "      <td>18.733511</td>\n",
              "      <td>0.0</td>\n",
              "      <td>0.0</td>\n",
              "      <td>0.0</td>\n",
              "      <td>675.5</td>\n",
              "      <td>88.334277</td>\n",
              "      <td>1129.0</td>\n",
              "    </tr>\n",
              "    <tr>\n",
              "      <th>9</th>\n",
              "      <td>30.0</td>\n",
              "      <td>0.471405</td>\n",
              "      <td>108.2</td>\n",
              "      <td>10.952422</td>\n",
              "      <td>0.0</td>\n",
              "      <td>0.0</td>\n",
              "      <td>0.0</td>\n",
              "      <td>1129.0</td>\n",
              "      <td>989.477079</td>\n",
              "      <td>560.0</td>\n",
              "    </tr>\n",
              "    <tr>\n",
              "      <th>10</th>\n",
              "      <td>30.0</td>\n",
              "      <td>0.471405</td>\n",
              "      <td>124.5</td>\n",
              "      <td>18.992689</td>\n",
              "      <td>0.0</td>\n",
              "      <td>0.0</td>\n",
              "      <td>0.0</td>\n",
              "      <td>560.5</td>\n",
              "      <td>9.095176</td>\n",
              "      <td>564.0</td>\n",
              "    </tr>\n",
              "    <tr>\n",
              "      <th>11</th>\n",
              "      <td>30.0</td>\n",
              "      <td>0.000000</td>\n",
              "      <td>101.7</td>\n",
              "      <td>16.553281</td>\n",
              "      <td>0.0</td>\n",
              "      <td>0.0</td>\n",
              "      <td>0.0</td>\n",
              "      <td>564.9</td>\n",
              "      <td>10.867382</td>\n",
              "      <td>565.0</td>\n",
              "    </tr>\n",
              "    <tr>\n",
              "      <th>12</th>\n",
              "      <td>29.9</td>\n",
              "      <td>0.316228</td>\n",
              "      <td>104.5</td>\n",
              "      <td>21.490308</td>\n",
              "      <td>0.0</td>\n",
              "      <td>0.0</td>\n",
              "      <td>0.0</td>\n",
              "      <td>565.2</td>\n",
              "      <td>9.307106</td>\n",
              "      <td>554.0</td>\n",
              "    </tr>\n",
              "    <tr>\n",
              "      <th>13</th>\n",
              "      <td>29.9</td>\n",
              "      <td>0.567646</td>\n",
              "      <td>103.7</td>\n",
              "      <td>18.850582</td>\n",
              "      <td>0.0</td>\n",
              "      <td>0.0</td>\n",
              "      <td>0.0</td>\n",
              "      <td>554.0</td>\n",
              "      <td>33.062231</td>\n",
              "      <td>549.0</td>\n",
              "    </tr>\n",
              "    <tr>\n",
              "      <th>14</th>\n",
              "      <td>29.8</td>\n",
              "      <td>0.632456</td>\n",
              "      <td>116.6</td>\n",
              "      <td>25.351748</td>\n",
              "      <td>0.0</td>\n",
              "      <td>0.0</td>\n",
              "      <td>0.0</td>\n",
              "      <td>549.9</td>\n",
              "      <td>41.162146</td>\n",
              "      <td>564.0</td>\n",
              "    </tr>\n",
              "    <tr>\n",
              "      <th>15</th>\n",
              "      <td>30.0</td>\n",
              "      <td>0.000000</td>\n",
              "      <td>114.7</td>\n",
              "      <td>25.469153</td>\n",
              "      <td>0.0</td>\n",
              "      <td>0.0</td>\n",
              "      <td>0.0</td>\n",
              "      <td>564.1</td>\n",
              "      <td>9.608445</td>\n",
              "      <td>691.0</td>\n",
              "    </tr>\n",
              "    <tr>\n",
              "      <th>16</th>\n",
              "      <td>29.4</td>\n",
              "      <td>0.966092</td>\n",
              "      <td>126.2</td>\n",
              "      <td>28.962811</td>\n",
              "      <td>0.0</td>\n",
              "      <td>0.0</td>\n",
              "      <td>0.0</td>\n",
              "      <td>691.3</td>\n",
              "      <td>406.167467</td>\n",
              "      <td>541.0</td>\n",
              "    </tr>\n",
              "    <tr>\n",
              "      <th>17</th>\n",
              "      <td>29.1</td>\n",
              "      <td>1.100505</td>\n",
              "      <td>121.9</td>\n",
              "      <td>23.211348</td>\n",
              "      <td>0.0</td>\n",
              "      <td>0.0</td>\n",
              "      <td>0.0</td>\n",
              "      <td>541.6</td>\n",
              "      <td>59.772160</td>\n",
              "      <td>564.0</td>\n",
              "    </tr>\n",
              "    <tr>\n",
              "      <th>18</th>\n",
              "      <td>29.2</td>\n",
              "      <td>0.788811</td>\n",
              "      <td>122.6</td>\n",
              "      <td>45.260235</td>\n",
              "      <td>0.0</td>\n",
              "      <td>0.0</td>\n",
              "      <td>0.0</td>\n",
              "      <td>564.6</td>\n",
              "      <td>10.090700</td>\n",
              "      <td>561.0</td>\n",
              "    </tr>\n",
              "    <tr>\n",
              "      <th>19</th>\n",
              "      <td>29.5</td>\n",
              "      <td>1.178511</td>\n",
              "      <td>114.1</td>\n",
              "      <td>41.527635</td>\n",
              "      <td>0.0</td>\n",
              "      <td>0.0</td>\n",
              "      <td>0.0</td>\n",
              "      <td>561.6</td>\n",
              "      <td>9.651713</td>\n",
              "      <td>564.0</td>\n",
              "    </tr>\n",
              "    <tr>\n",
              "      <th>20</th>\n",
              "      <td>29.8</td>\n",
              "      <td>1.135292</td>\n",
              "      <td>135.1</td>\n",
              "      <td>61.529487</td>\n",
              "      <td>0.0</td>\n",
              "      <td>0.0</td>\n",
              "      <td>0.0</td>\n",
              "      <td>564.3</td>\n",
              "      <td>9.649986</td>\n",
              "      <td>564.0</td>\n",
              "    </tr>\n",
              "    <tr>\n",
              "      <th>21</th>\n",
              "      <td>30.1</td>\n",
              "      <td>0.994429</td>\n",
              "      <td>92.6</td>\n",
              "      <td>24.802330</td>\n",
              "      <td>0.0</td>\n",
              "      <td>0.0</td>\n",
              "      <td>0.0</td>\n",
              "      <td>561.6</td>\n",
              "      <td>7.848567</td>\n",
              "      <td>564.0</td>\n",
              "    </tr>\n",
              "    <tr>\n",
              "      <th>22</th>\n",
              "      <td>29.7</td>\n",
              "      <td>1.567021</td>\n",
              "      <td>111.6</td>\n",
              "      <td>38.626991</td>\n",
              "      <td>0.0</td>\n",
              "      <td>0.0</td>\n",
              "      <td>0.0</td>\n",
              "      <td>564.2</td>\n",
              "      <td>9.295160</td>\n",
              "      <td>558.0</td>\n",
              "    </tr>\n",
              "    <tr>\n",
              "      <th>23</th>\n",
              "      <td>30.1</td>\n",
              "      <td>0.316228</td>\n",
              "      <td>107.7</td>\n",
              "      <td>30.353656</td>\n",
              "      <td>0.0</td>\n",
              "      <td>0.0</td>\n",
              "      <td>0.0</td>\n",
              "      <td>558.8</td>\n",
              "      <td>5.692100</td>\n",
              "      <td>564.0</td>\n",
              "    </tr>\n",
              "    <tr>\n",
              "      <th>24</th>\n",
              "      <td>29.9</td>\n",
              "      <td>0.567646</td>\n",
              "      <td>106.5</td>\n",
              "      <td>26.779968</td>\n",
              "      <td>0.0</td>\n",
              "      <td>0.0</td>\n",
              "      <td>0.0</td>\n",
              "      <td>564.4</td>\n",
              "      <td>9.559172</td>\n",
              "      <td>568.0</td>\n",
              "    </tr>\n",
              "  </tbody>\n",
              "</table>\n",
              "</div>\n",
              "      <button class=\"colab-df-convert\" onclick=\"convertToInteractive('df-450bbd82-f0cd-46dd-b9cd-c087d3f1ef9c')\"\n",
              "              title=\"Convert this dataframe to an interactive table.\"\n",
              "              style=\"display:none;\">\n",
              "        \n",
              "  <svg xmlns=\"http://www.w3.org/2000/svg\" height=\"24px\"viewBox=\"0 0 24 24\"\n",
              "       width=\"24px\">\n",
              "    <path d=\"M0 0h24v24H0V0z\" fill=\"none\"/>\n",
              "    <path d=\"M18.56 5.44l.94 2.06.94-2.06 2.06-.94-2.06-.94-.94-2.06-.94 2.06-2.06.94zm-11 1L8.5 8.5l.94-2.06 2.06-.94-2.06-.94L8.5 2.5l-.94 2.06-2.06.94zm10 10l.94 2.06.94-2.06 2.06-.94-2.06-.94-.94-2.06-.94 2.06-2.06.94z\"/><path d=\"M17.41 7.96l-1.37-1.37c-.4-.4-.92-.59-1.43-.59-.52 0-1.04.2-1.43.59L10.3 9.45l-7.72 7.72c-.78.78-.78 2.05 0 2.83L4 21.41c.39.39.9.59 1.41.59.51 0 1.02-.2 1.41-.59l7.78-7.78 2.81-2.81c.8-.78.8-2.07 0-2.86zM5.41 20L4 18.59l7.72-7.72 1.47 1.35L5.41 20z\"/>\n",
              "  </svg>\n",
              "      </button>\n",
              "      \n",
              "  <style>\n",
              "    .colab-df-container {\n",
              "      display:flex;\n",
              "      flex-wrap:wrap;\n",
              "      gap: 12px;\n",
              "    }\n",
              "\n",
              "    .colab-df-convert {\n",
              "      background-color: #E8F0FE;\n",
              "      border: none;\n",
              "      border-radius: 50%;\n",
              "      cursor: pointer;\n",
              "      display: none;\n",
              "      fill: #1967D2;\n",
              "      height: 32px;\n",
              "      padding: 0 0 0 0;\n",
              "      width: 32px;\n",
              "    }\n",
              "\n",
              "    .colab-df-convert:hover {\n",
              "      background-color: #E2EBFA;\n",
              "      box-shadow: 0px 1px 2px rgba(60, 64, 67, 0.3), 0px 1px 3px 1px rgba(60, 64, 67, 0.15);\n",
              "      fill: #174EA6;\n",
              "    }\n",
              "\n",
              "    [theme=dark] .colab-df-convert {\n",
              "      background-color: #3B4455;\n",
              "      fill: #D2E3FC;\n",
              "    }\n",
              "\n",
              "    [theme=dark] .colab-df-convert:hover {\n",
              "      background-color: #434B5C;\n",
              "      box-shadow: 0px 1px 3px 1px rgba(0, 0, 0, 0.15);\n",
              "      filter: drop-shadow(0px 1px 2px rgba(0, 0, 0, 0.3));\n",
              "      fill: #FFFFFF;\n",
              "    }\n",
              "  </style>\n",
              "\n",
              "      <script>\n",
              "        const buttonEl =\n",
              "          document.querySelector('#df-450bbd82-f0cd-46dd-b9cd-c087d3f1ef9c button.colab-df-convert');\n",
              "        buttonEl.style.display =\n",
              "          google.colab.kernel.accessAllowed ? 'block' : 'none';\n",
              "\n",
              "        async function convertToInteractive(key) {\n",
              "          const element = document.querySelector('#df-450bbd82-f0cd-46dd-b9cd-c087d3f1ef9c');\n",
              "          const dataTable =\n",
              "            await google.colab.kernel.invokeFunction('convertToInteractive',\n",
              "                                                     [key], {});\n",
              "          if (!dataTable) return;\n",
              "\n",
              "          const docLinkHtml = 'Like what you see? Visit the ' +\n",
              "            '<a target=\"_blank\" href=https://colab.research.google.com/notebooks/data_table.ipynb>data table notebook</a>'\n",
              "            + ' to learn more about interactive tables.';\n",
              "          element.innerHTML = '';\n",
              "          dataTable['output_type'] = 'display_data';\n",
              "          await google.colab.output.renderOutput(dataTable, element);\n",
              "          const docLink = document.createElement('div');\n",
              "          docLink.innerHTML = docLinkHtml;\n",
              "          element.appendChild(docLink);\n",
              "        }\n",
              "      </script>\n",
              "    </div>\n",
              "  </div>\n",
              "  "
            ],
            "text/plain": [
              "    fps_mean   fps_std  rtt_mean     rtt_std  dropped_frames_mean  \\\n",
              "0       24.4  0.516398      91.1    6.723921                  0.0   \n",
              "1       28.6  2.065591      99.7   15.923777                  0.0   \n",
              "2       30.0  0.000000      98.1   11.798776                  0.0   \n",
              "3       30.3  0.948683      99.4   13.014522                  0.0   \n",
              "4       29.9  0.316228     123.2   62.476307                  0.0   \n",
              "5       29.5  1.649916     131.2  114.257798                  0.0   \n",
              "6       24.3  0.483046      98.3   16.499495                  0.0   \n",
              "7       24.5  0.971825     141.9  103.814418                  0.0   \n",
              "8       30.0  0.000000     107.5   18.733511                  0.0   \n",
              "9       30.0  0.471405     108.2   10.952422                  0.0   \n",
              "10      30.0  0.471405     124.5   18.992689                  0.0   \n",
              "11      30.0  0.000000     101.7   16.553281                  0.0   \n",
              "12      29.9  0.316228     104.5   21.490308                  0.0   \n",
              "13      29.9  0.567646     103.7   18.850582                  0.0   \n",
              "14      29.8  0.632456     116.6   25.351748                  0.0   \n",
              "15      30.0  0.000000     114.7   25.469153                  0.0   \n",
              "16      29.4  0.966092     126.2   28.962811                  0.0   \n",
              "17      29.1  1.100505     121.9   23.211348                  0.0   \n",
              "18      29.2  0.788811     122.6   45.260235                  0.0   \n",
              "19      29.5  1.178511     114.1   41.527635                  0.0   \n",
              "20      29.8  1.135292     135.1   61.529487                  0.0   \n",
              "21      30.1  0.994429      92.6   24.802330                  0.0   \n",
              "22      29.7  1.567021     111.6   38.626991                  0.0   \n",
              "23      30.1  0.316228     107.7   30.353656                  0.0   \n",
              "24      29.9  0.567646     106.5   26.779968                  0.0   \n",
              "\n",
              "    dropped_frames_std  dropped_frames_max  bitrate_mean  bitrate_std  target  \n",
              "0                  0.0                 0.0         460.5     7.648529   616.0  \n",
              "1                  0.0                 0.0         616.3   155.414893   565.0  \n",
              "2                  0.0                 0.0         565.2     9.077445   573.0  \n",
              "3                  0.0                 0.0         573.8    28.350191   585.0  \n",
              "4                  0.0                 0.0         585.8    59.458295   555.0  \n",
              "5                  0.0                 0.0         555.2    47.713963   456.0  \n",
              "6                  0.0                 0.0         456.7     9.428680   511.0  \n",
              "7                  0.0                 0.0         511.4   156.318905   675.0  \n",
              "8                  0.0                 0.0         675.5    88.334277  1129.0  \n",
              "9                  0.0                 0.0        1129.0   989.477079   560.0  \n",
              "10                 0.0                 0.0         560.5     9.095176   564.0  \n",
              "11                 0.0                 0.0         564.9    10.867382   565.0  \n",
              "12                 0.0                 0.0         565.2     9.307106   554.0  \n",
              "13                 0.0                 0.0         554.0    33.062231   549.0  \n",
              "14                 0.0                 0.0         549.9    41.162146   564.0  \n",
              "15                 0.0                 0.0         564.1     9.608445   691.0  \n",
              "16                 0.0                 0.0         691.3   406.167467   541.0  \n",
              "17                 0.0                 0.0         541.6    59.772160   564.0  \n",
              "18                 0.0                 0.0         564.6    10.090700   561.0  \n",
              "19                 0.0                 0.0         561.6     9.651713   564.0  \n",
              "20                 0.0                 0.0         564.3     9.649986   564.0  \n",
              "21                 0.0                 0.0         561.6     7.848567   564.0  \n",
              "22                 0.0                 0.0         564.2     9.295160   558.0  \n",
              "23                 0.0                 0.0         558.8     5.692100   564.0  \n",
              "24                 0.0                 0.0         564.4     9.559172   568.0  "
            ]
          },
          "execution_count": 4,
          "metadata": {},
          "output_type": "execute_result"
        }
      ],
      "source": [
        "bitrate_train_df.head(25)"
      ]
    },
    {
      "cell_type": "code",
      "execution_count": null,
      "metadata": {
        "colab": {
          "base_uri": "https://localhost:8080/",
          "height": 363
        },
        "id": "Jjy0nXgnfiYd",
        "outputId": "9822bf7d-3d56-419b-c35d-0fe778b22f27"
      },
      "outputs": [
        {
          "data": {
            "text/html": [
              "\n",
              "  <div id=\"df-3a06b8cf-5f44-4f0f-8016-234edf19ec93\">\n",
              "    <div class=\"colab-df-container\">\n",
              "      <div>\n",
              "<style scoped>\n",
              "    .dataframe tbody tr th:only-of-type {\n",
              "        vertical-align: middle;\n",
              "    }\n",
              "\n",
              "    .dataframe tbody tr th {\n",
              "        vertical-align: top;\n",
              "    }\n",
              "\n",
              "    .dataframe thead th {\n",
              "        text-align: right;\n",
              "    }\n",
              "</style>\n",
              "<table border=\"1\" class=\"dataframe\">\n",
              "  <thead>\n",
              "    <tr style=\"text-align: right;\">\n",
              "      <th></th>\n",
              "      <th>count</th>\n",
              "      <th>mean</th>\n",
              "      <th>std</th>\n",
              "      <th>min</th>\n",
              "      <th>25%</th>\n",
              "      <th>50%</th>\n",
              "      <th>75%</th>\n",
              "      <th>max</th>\n",
              "    </tr>\n",
              "  </thead>\n",
              "  <tbody>\n",
              "    <tr>\n",
              "      <th>fps_mean</th>\n",
              "      <td>379021.0</td>\n",
              "      <td>35.231127</td>\n",
              "      <td>10.975010</td>\n",
              "      <td>10.0</td>\n",
              "      <td>28.800000</td>\n",
              "      <td>30.000000</td>\n",
              "      <td>43.600000</td>\n",
              "      <td>125.800000</td>\n",
              "    </tr>\n",
              "    <tr>\n",
              "      <th>fps_std</th>\n",
              "      <td>379021.0</td>\n",
              "      <td>1.725705</td>\n",
              "      <td>2.505942</td>\n",
              "      <td>0.0</td>\n",
              "      <td>0.316228</td>\n",
              "      <td>0.942809</td>\n",
              "      <td>2.233582</td>\n",
              "      <td>307.167273</td>\n",
              "    </tr>\n",
              "    <tr>\n",
              "      <th>rtt_mean</th>\n",
              "      <td>379021.0</td>\n",
              "      <td>49.623858</td>\n",
              "      <td>94.781098</td>\n",
              "      <td>0.0</td>\n",
              "      <td>14.300000</td>\n",
              "      <td>32.200000</td>\n",
              "      <td>55.900000</td>\n",
              "      <td>12898.400000</td>\n",
              "    </tr>\n",
              "    <tr>\n",
              "      <th>rtt_std</th>\n",
              "      <td>379021.0</td>\n",
              "      <td>12.763672</td>\n",
              "      <td>112.684460</td>\n",
              "      <td>0.0</td>\n",
              "      <td>0.699206</td>\n",
              "      <td>1.433721</td>\n",
              "      <td>4.948625</td>\n",
              "      <td>40721.933293</td>\n",
              "    </tr>\n",
              "    <tr>\n",
              "      <th>dropped_frames_mean</th>\n",
              "      <td>379021.0</td>\n",
              "      <td>0.180451</td>\n",
              "      <td>1.732890</td>\n",
              "      <td>0.0</td>\n",
              "      <td>0.000000</td>\n",
              "      <td>0.000000</td>\n",
              "      <td>0.000000</td>\n",
              "      <td>540.000000</td>\n",
              "    </tr>\n",
              "    <tr>\n",
              "      <th>dropped_frames_std</th>\n",
              "      <td>379021.0</td>\n",
              "      <td>0.469548</td>\n",
              "      <td>3.157866</td>\n",
              "      <td>0.0</td>\n",
              "      <td>0.000000</td>\n",
              "      <td>0.000000</td>\n",
              "      <td>0.000000</td>\n",
              "      <td>202.385770</td>\n",
              "    </tr>\n",
              "    <tr>\n",
              "      <th>dropped_frames_max</th>\n",
              "      <td>379021.0</td>\n",
              "      <td>1.450719</td>\n",
              "      <td>9.670928</td>\n",
              "      <td>0.0</td>\n",
              "      <td>0.000000</td>\n",
              "      <td>0.000000</td>\n",
              "      <td>0.000000</td>\n",
              "      <td>640.000000</td>\n",
              "    </tr>\n",
              "    <tr>\n",
              "      <th>bitrate_mean</th>\n",
              "      <td>379021.0</td>\n",
              "      <td>7516.585502</td>\n",
              "      <td>6073.992189</td>\n",
              "      <td>0.0</td>\n",
              "      <td>2773.300000</td>\n",
              "      <td>6287.200000</td>\n",
              "      <td>10187.200000</td>\n",
              "      <td>64913.500000</td>\n",
              "    </tr>\n",
              "    <tr>\n",
              "      <th>bitrate_std</th>\n",
              "      <td>379021.0</td>\n",
              "      <td>1603.487501</td>\n",
              "      <td>1721.021623</td>\n",
              "      <td>0.0</td>\n",
              "      <td>383.683550</td>\n",
              "      <td>1112.710010</td>\n",
              "      <td>2241.848801</td>\n",
              "      <td>26908.532303</td>\n",
              "    </tr>\n",
              "    <tr>\n",
              "      <th>target</th>\n",
              "      <td>379021.0</td>\n",
              "      <td>7525.396231</td>\n",
              "      <td>6070.817736</td>\n",
              "      <td>0.0</td>\n",
              "      <td>2785.000000</td>\n",
              "      <td>6296.000000</td>\n",
              "      <td>10192.000000</td>\n",
              "      <td>64913.000000</td>\n",
              "    </tr>\n",
              "  </tbody>\n",
              "</table>\n",
              "</div>\n",
              "      <button class=\"colab-df-convert\" onclick=\"convertToInteractive('df-3a06b8cf-5f44-4f0f-8016-234edf19ec93')\"\n",
              "              title=\"Convert this dataframe to an interactive table.\"\n",
              "              style=\"display:none;\">\n",
              "        \n",
              "  <svg xmlns=\"http://www.w3.org/2000/svg\" height=\"24px\"viewBox=\"0 0 24 24\"\n",
              "       width=\"24px\">\n",
              "    <path d=\"M0 0h24v24H0V0z\" fill=\"none\"/>\n",
              "    <path d=\"M18.56 5.44l.94 2.06.94-2.06 2.06-.94-2.06-.94-.94-2.06-.94 2.06-2.06.94zm-11 1L8.5 8.5l.94-2.06 2.06-.94-2.06-.94L8.5 2.5l-.94 2.06-2.06.94zm10 10l.94 2.06.94-2.06 2.06-.94-2.06-.94-.94-2.06-.94 2.06-2.06.94z\"/><path d=\"M17.41 7.96l-1.37-1.37c-.4-.4-.92-.59-1.43-.59-.52 0-1.04.2-1.43.59L10.3 9.45l-7.72 7.72c-.78.78-.78 2.05 0 2.83L4 21.41c.39.39.9.59 1.41.59.51 0 1.02-.2 1.41-.59l7.78-7.78 2.81-2.81c.8-.78.8-2.07 0-2.86zM5.41 20L4 18.59l7.72-7.72 1.47 1.35L5.41 20z\"/>\n",
              "  </svg>\n",
              "      </button>\n",
              "      \n",
              "  <style>\n",
              "    .colab-df-container {\n",
              "      display:flex;\n",
              "      flex-wrap:wrap;\n",
              "      gap: 12px;\n",
              "    }\n",
              "\n",
              "    .colab-df-convert {\n",
              "      background-color: #E8F0FE;\n",
              "      border: none;\n",
              "      border-radius: 50%;\n",
              "      cursor: pointer;\n",
              "      display: none;\n",
              "      fill: #1967D2;\n",
              "      height: 32px;\n",
              "      padding: 0 0 0 0;\n",
              "      width: 32px;\n",
              "    }\n",
              "\n",
              "    .colab-df-convert:hover {\n",
              "      background-color: #E2EBFA;\n",
              "      box-shadow: 0px 1px 2px rgba(60, 64, 67, 0.3), 0px 1px 3px 1px rgba(60, 64, 67, 0.15);\n",
              "      fill: #174EA6;\n",
              "    }\n",
              "\n",
              "    [theme=dark] .colab-df-convert {\n",
              "      background-color: #3B4455;\n",
              "      fill: #D2E3FC;\n",
              "    }\n",
              "\n",
              "    [theme=dark] .colab-df-convert:hover {\n",
              "      background-color: #434B5C;\n",
              "      box-shadow: 0px 1px 3px 1px rgba(0, 0, 0, 0.15);\n",
              "      filter: drop-shadow(0px 1px 2px rgba(0, 0, 0, 0.3));\n",
              "      fill: #FFFFFF;\n",
              "    }\n",
              "  </style>\n",
              "\n",
              "      <script>\n",
              "        const buttonEl =\n",
              "          document.querySelector('#df-3a06b8cf-5f44-4f0f-8016-234edf19ec93 button.colab-df-convert');\n",
              "        buttonEl.style.display =\n",
              "          google.colab.kernel.accessAllowed ? 'block' : 'none';\n",
              "\n",
              "        async function convertToInteractive(key) {\n",
              "          const element = document.querySelector('#df-3a06b8cf-5f44-4f0f-8016-234edf19ec93');\n",
              "          const dataTable =\n",
              "            await google.colab.kernel.invokeFunction('convertToInteractive',\n",
              "                                                     [key], {});\n",
              "          if (!dataTable) return;\n",
              "\n",
              "          const docLinkHtml = 'Like what you see? Visit the ' +\n",
              "            '<a target=\"_blank\" href=https://colab.research.google.com/notebooks/data_table.ipynb>data table notebook</a>'\n",
              "            + ' to learn more about interactive tables.';\n",
              "          element.innerHTML = '';\n",
              "          dataTable['output_type'] = 'display_data';\n",
              "          await google.colab.output.renderOutput(dataTable, element);\n",
              "          const docLink = document.createElement('div');\n",
              "          docLink.innerHTML = docLinkHtml;\n",
              "          element.appendChild(docLink);\n",
              "        }\n",
              "      </script>\n",
              "    </div>\n",
              "  </div>\n",
              "  "
            ],
            "text/plain": [
              "                        count         mean          std   min          25%  \\\n",
              "fps_mean             379021.0    35.231127    10.975010  10.0    28.800000   \n",
              "fps_std              379021.0     1.725705     2.505942   0.0     0.316228   \n",
              "rtt_mean             379021.0    49.623858    94.781098   0.0    14.300000   \n",
              "rtt_std              379021.0    12.763672   112.684460   0.0     0.699206   \n",
              "dropped_frames_mean  379021.0     0.180451     1.732890   0.0     0.000000   \n",
              "dropped_frames_std   379021.0     0.469548     3.157866   0.0     0.000000   \n",
              "dropped_frames_max   379021.0     1.450719     9.670928   0.0     0.000000   \n",
              "bitrate_mean         379021.0  7516.585502  6073.992189   0.0  2773.300000   \n",
              "bitrate_std          379021.0  1603.487501  1721.021623   0.0   383.683550   \n",
              "target               379021.0  7525.396231  6070.817736   0.0  2785.000000   \n",
              "\n",
              "                             50%           75%           max  \n",
              "fps_mean               30.000000     43.600000    125.800000  \n",
              "fps_std                 0.942809      2.233582    307.167273  \n",
              "rtt_mean               32.200000     55.900000  12898.400000  \n",
              "rtt_std                 1.433721      4.948625  40721.933293  \n",
              "dropped_frames_mean     0.000000      0.000000    540.000000  \n",
              "dropped_frames_std      0.000000      0.000000    202.385770  \n",
              "dropped_frames_max      0.000000      0.000000    640.000000  \n",
              "bitrate_mean         6287.200000  10187.200000  64913.500000  \n",
              "bitrate_std          1112.710010   2241.848801  26908.532303  \n",
              "target               6296.000000  10192.000000  64913.000000  "
            ]
          },
          "execution_count": 5,
          "metadata": {},
          "output_type": "execute_result"
        }
      ],
      "source": [
        "bitrate_train_df.describe().T"
      ]
    },
    {
      "cell_type": "markdown",
      "metadata": {
        "id": "jZlo6YQqcfqJ"
      },
      "source": [
        "##1.3 checking missing data "
      ]
    },
    {
      "cell_type": "code",
      "execution_count": null,
      "metadata": {
        "colab": {
          "base_uri": "https://localhost:8080/"
        },
        "id": "3TW5LBQEi7qP",
        "outputId": "45c67d7b-2c64-4ad5-9fc7-4342dbc54774"
      },
      "outputs": [
        {
          "data": {
            "text/plain": [
              "fps_mean               0\n",
              "fps_std                0\n",
              "rtt_mean               0\n",
              "rtt_std                0\n",
              "dropped_frames_mean    0\n",
              "dropped_frames_std     0\n",
              "dropped_frames_max     0\n",
              "bitrate_mean           0\n",
              "bitrate_std            0\n",
              "target                 0\n",
              "dtype: int64"
            ]
          },
          "execution_count": 6,
          "metadata": {},
          "output_type": "execute_result"
        }
      ],
      "source": [
        "bitrate_train_df.isna().sum()"
      ]
    },
    {
      "cell_type": "markdown",
      "metadata": {
        "id": "YJCso4hkj-J6"
      },
      "source": [
        "##1.4  Profiling Data"
      ]
    },
    {
      "cell_type": "code",
      "execution_count": null,
      "metadata": {
        "id": "LtXEe3_xje1F"
      },
      "outputs": [],
      "source": [
        "from pandas_profiling import ProfileReport\n",
        "\n",
        "report = ProfileReport(bitrate_train_df)\n",
        "report.to_file('bitrate_train_report.html')"
      ]
    },
    {
      "cell_type": "markdown",
      "metadata": {
        "id": "02sln88AmpGb"
      },
      "source": [
        "## 1.5 removing duplicate "
      ]
    },
    {
      "cell_type": "code",
      "execution_count": null,
      "metadata": {
        "id": "ledR2fgtmzkD"
      },
      "outputs": [],
      "source": [
        "bitrate_train_df.drop_duplicates(inplace=True)"
      ]
    },
    {
      "cell_type": "markdown",
      "metadata": {
        "id": "T-aL2vlJuBS2"
      },
      "source": [
        "##1.5.1**outliers removal**\n",
        "\n",
        "The common industry practice is to use 3 standard deviations away from the mean to differentiate outlier from non-outlier. \n",
        "\n",
        "By using 3 standard deviations we remove the 0.3% extreme cases."
      ]
    },
    {
      "cell_type": "code",
      "execution_count": null,
      "metadata": {
        "colab": {
          "base_uri": "https://localhost:8080/"
        },
        "id": "mxUWkYiIwJY5",
        "outputId": "48021344-7789-47fa-cd36-ca355dcc1399"
      },
      "outputs": [
        {
          "name": "stdout",
          "output_type": "stream",
          "text": [
            "(375660, 10)\n",
            "(349696, 10)\n"
          ]
        }
      ],
      "source": [
        "from scipy import stats\n",
        "bitrate_train_df_no_outliers = bitrate_train_df[(np.abs(stats.zscore(bitrate_train_df)) < 3).all(axis=1)].copy()\n",
        "print(bitrate_train_df.shape)\n",
        "print(bitrate_train_df_no_outliers.shape)"
      ]
    },
    {
      "cell_type": "markdown",
      "metadata": {
        "id": "ZPVNL7GhQ2KB"
      },
      "source": [
        "## 1.6 Features selection"
      ]
    },
    {
      "cell_type": "code",
      "execution_count": null,
      "metadata": {
        "id": "hnvCMiQfPtVb"
      },
      "outputs": [],
      "source": [
        "X_train=bitrate_train_df[['bitrate_mean']]\n",
        "y_train=bitrate_train_df[[\"target\"]]\n",
        "\n",
        "X_train_no_outliers = bitrate_train_df_no_outliers[['bitrate_mean']]\n",
        "y_train_no_outliers = bitrate_train_df_no_outliers[[\"target\"]]"
      ]
    },
    {
      "cell_type": "markdown",
      "metadata": {
        "id": "BAzRh006dQxB"
      },
      "source": [
        "## 1.7.1 ploting (with outliers)"
      ]
    },
    {
      "cell_type": "code",
      "execution_count": null,
      "metadata": {
        "id": "Mff2ilT5Q_my"
      },
      "outputs": [],
      "source": [
        "plt.scatter(X_train.values, y_train.values)\n",
        "plt.title('target vs bitrate_mean')\n",
        "plt.xlabel('bitrate_mean')\n",
        "plt.ylabel('target')\n",
        "plt.show()"
      ]
    },
    {
      "cell_type": "markdown",
      "metadata": {
        "id": "R1pnNqt5docF"
      },
      "source": [
        "## 1.7.2 ploting (without outliers)"
      ]
    },
    {
      "cell_type": "code",
      "execution_count": null,
      "metadata": {
        "id": "eUSi5sqZU8Si"
      },
      "outputs": [],
      "source": [
        "plt.scatter(X_train_no_outliers.values, y_train_no_outliers.values)\n",
        "plt.title('target vs bitrate_mean')\n",
        "plt.xlabel('bitrate_mean')\n",
        "plt.ylabel('target')\n",
        "plt.show()"
      ]
    },
    {
      "cell_type": "markdown",
      "metadata": {
        "id": "T1nQVjqzdvbh"
      },
      "source": [
        "##1.8 training simple linear regression model (with outliers)"
      ]
    },
    {
      "cell_type": "code",
      "execution_count": null,
      "metadata": {
        "colab": {
          "base_uri": "https://localhost:8080/"
        },
        "id": "068vJ8ohRI2l",
        "outputId": "6e75e320-df15-457d-9fad-eeb197d28348"
      },
      "outputs": [
        {
          "name": "stdout",
          "output_type": "stream",
          "text": [
            "Model intercept : [431.69965255]\n",
            "Model coefficients : [[0.94402994]]\n",
            "Cross validation score is : [0.88867167 0.90468659 0.87533663]\n"
          ]
        }
      ],
      "source": [
        "from sklearn.linear_model import LinearRegression\n",
        "from sklearn import metrics\n",
        "\n",
        "simple_linear = LinearRegression()\n",
        "simple_linear.fit(X_train, y_train)\n",
        "cross_val = cross_val_score(simple_linear, X_train, y_train, cv=3)\n",
        "print(f\"Model intercept : {simple_linear.intercept_}\")\n",
        "print(f\"Model coefficients : {simple_linear.coef_}\")\n",
        "print(f\"Cross validation score is : {cross_val}\")\n"
      ]
    },
    {
      "cell_type": "markdown",
      "metadata": {
        "id": "YNv03xUmSbit"
      },
      "source": [
        "##1.9 Model evaluation (with outliers)"
      ]
    },
    {
      "cell_type": "code",
      "execution_count": null,
      "metadata": {
        "colab": {
          "base_uri": "https://localhost:8080/"
        },
        "id": "TrFZ1IB2Sef5",
        "outputId": "0dfbe5aa-b667-4919-88c4-3832d860cc84"
      },
      "outputs": [
        {
          "name": "stdout",
          "output_type": "stream",
          "text": [
            "Mean Absolute Error: 1079.2546842396653\n",
            "Mean Squared Error: 3825594.571078191\n",
            "Root Mean Squared Error: 1955.9127207209915\n"
          ]
        }
      ],
      "source": [
        "X_test=bitrate_test_df[['bitrate_mean']]\n",
        "y_test=bitrate_test_df[['target']]\n",
        "\n",
        "y_pred = simple_linear.predict(X_test)\n",
        "\n",
        "print('Mean Absolute Error:', metrics.mean_absolute_error(y_test, y_pred))\n",
        "print('Mean Squared Error:', metrics.mean_squared_error(y_test, y_pred))\n",
        "print('Root Mean Squared Error:', np.sqrt(metrics.mean_squared_error(y_test, y_pred)))\n"
      ]
    },
    {
      "cell_type": "markdown",
      "metadata": {
        "id": "HlzM_OQZeUmG"
      },
      "source": [
        "##1.10 training simple linear regression model (without outliers)"
      ]
    },
    {
      "cell_type": "code",
      "execution_count": null,
      "metadata": {
        "colab": {
          "base_uri": "https://localhost:8080/"
        },
        "id": "WH1jN_g3VIDh",
        "outputId": "bcabe2b1-2471-417f-d4fb-13d3051bfc89"
      },
      "outputs": [
        {
          "name": "stdout",
          "output_type": "stream",
          "text": [
            "Cross validation score is : [0.88867167 0.90468659 0.87533663]\n",
            "Model intercept : [414.6235588]\n",
            "Model coefficients : [[0.94356953]]\n"
          ]
        }
      ],
      "source": [
        "from sklearn.linear_model import LinearRegression\n",
        "from sklearn import metrics\n",
        "\n",
        "simple_linear_no_outliers = LinearRegression()\n",
        "simple_linear_no_outliers.fit(X_train_no_outliers, y_train_no_outliers)\n",
        "cross_val = cross_val_score(simple_linear_no_outliers, X_train, y_train, cv=3)\n",
        "\n",
        "print(f\"Cross validation score is : {cross_val}\")\n",
        "print(f\"Model intercept : {simple_linear_no_outliers.intercept_}\")\n",
        "print(f\"Model coefficients : {simple_linear_no_outliers.coef_}\")\n"
      ]
    },
    {
      "cell_type": "markdown",
      "metadata": {
        "id": "u5bkjX1gewRz"
      },
      "source": [
        "##1.11 Model evaluation (without outliers)"
      ]
    },
    {
      "cell_type": "code",
      "execution_count": null,
      "metadata": {
        "colab": {
          "base_uri": "https://localhost:8080/"
        },
        "id": "K-5Teh3fVJUf",
        "outputId": "236e9338-6d2f-4d9f-adcf-549232d301c2"
      },
      "outputs": [
        {
          "name": "stdout",
          "output_type": "stream",
          "text": [
            "Mean Absolute Error: 1076.1822721948236\n",
            "Mean Squared Error: 3825173.519452203\n",
            "Root Mean Squared Error: 1955.8050821726083\n"
          ]
        }
      ],
      "source": [
        "X_test=bitrate_test_df[['bitrate_mean']]\n",
        "y_test=bitrate_test_df[['target']]\n",
        "\n",
        "y_pred = simple_linear_no_outliers.predict(X_test)\n",
        "\n",
        "print('Mean Absolute Error:', metrics.mean_absolute_error(y_test, y_pred))\n",
        "print('Mean Squared Error:', metrics.mean_squared_error(y_test, y_pred))\n",
        "print('Root Mean Squared Error:', np.sqrt(metrics.mean_squared_error(y_test, y_pred)))"
      ]
    },
    {
      "cell_type": "markdown",
      "metadata": {
        "id": "9bJVlzjDfcJM"
      },
      "source": [
        "## 1.12 training linear regression Model"
      ]
    },
    {
      "cell_type": "code",
      "execution_count": null,
      "metadata": {
        "colab": {
          "base_uri": "https://localhost:8080/"
        },
        "id": "pIYzfDWvTzxf",
        "outputId": "ca8e7318-e189-4639-97df-5f4de7ecb615"
      },
      "outputs": [
        {
          "name": "stdout",
          "output_type": "stream",
          "text": [
            "Model intercept : [343.61364818]\n",
            "Model coefficients : [[ 1.86533611 -0.5758185   0.10565859  0.92439003  0.12234561]]\n",
            "Cross validation score is : [0.88949705 0.90576686 0.87617918]\n",
            "Model intercept : [343.61364818]\n",
            "Model coefficients : [[ 1.86533611 -0.5758185   0.10565859  0.92439003  0.12234561]]\n",
            "Cross validation score is : [0.88949705 0.90576686 0.87617918]\n"
          ]
        }
      ],
      "source": [
        "X_train = bitrate_train_df.drop(['target', 'dropped_frames_max','fps_std','dropped_frames_std','dropped_frames_mean'], axis=1)\n",
        "\n",
        "y_train = bitrate_train_df[[\"target\"]]\n",
        "\n",
        "X_train_no_outlier = bitrate_train_df_no_outliers.drop(['target', 'dropped_frames_max','fps_std','dropped_frames_std','dropped_frames_mean'], axis=1)\n",
        "\n",
        "y_train_no_outlier = bitrate_train_df_no_outliers[[\"target\"]]\n",
        "\n",
        "X_test = bitrate_test_df.drop(['target', 'dropped_frames_max','fps_std','dropped_frames_std','dropped_frames_mean'], axis=1)\n",
        "y_test = bitrate_test_df[['target']]\n",
        "\n",
        "linear_reg = LinearRegression()\n",
        "linear_reg.fit(X_train, y_train)\n",
        "print(f\"Model intercept : {linear_reg.intercept_}\")\n",
        "print(f\"Model coefficients : {linear_reg.coef_}\")\n",
        "cross_val = cross_val_score(linear_reg, X_train, y_train, cv=3)\n",
        "\n",
        "print(f\"Cross validation score is : {cross_val}\")\n",
        "\n",
        "\n",
        "linear_reg_no_outlier = LinearRegression()\n",
        "linear_reg_no_outlier.fit(X_train_no_outlier, y_train_no_outlier)\n",
        "print(f\"Model intercept : {linear_reg.intercept_}\")\n",
        "print(f\"Model coefficients : {linear_reg.coef_}\")\n",
        "\n",
        "cross_val = cross_val_score(linear_reg_no_outlier, X_train, y_train, cv=3)\n",
        "\n",
        "print(f\"Cross validation score is : {cross_val}\")"
      ]
    },
    {
      "cell_type": "markdown",
      "metadata": {
        "id": "9IDBK0diiopX"
      },
      "source": [
        "## 1.13 evalute linear regression model"
      ]
    },
    {
      "cell_type": "code",
      "execution_count": null,
      "metadata": {
        "colab": {
          "base_uri": "https://localhost:8080/"
        },
        "id": "sW4WOSekgNEV",
        "outputId": "c7056fc4-d11c-4ce1-8acb-6cf31fcdbfc9"
      },
      "outputs": [
        {
          "name": "stdout",
          "output_type": "stream",
          "text": [
            "Mean Absolute Error: 1078.0533497487836\n",
            "Mean Squared Error: 3798894.311092989\n",
            "Root Mean Squared Error: 1949.075245108046\n",
            "Mean Absolute whithout outliers: 1076.8090334283263\n",
            "Mean Squared Error whithout outliers: 3808960.704102732\n",
            "Root Mean Squared Error whithout outliers: 1951.6558877278371\n"
          ]
        }
      ],
      "source": [
        "y_pred = linear_reg.predict(X_test)\n",
        "\n",
        "print('Mean Absolute Error:', metrics.mean_absolute_error(y_test, y_pred))\n",
        "print('Mean Squared Error:', metrics.mean_squared_error(y_test, y_pred))\n",
        "print('Root Mean Squared Error:', np.sqrt(metrics.mean_squared_error(y_test, y_pred)))\n",
        "\n",
        "y_pred_no_outlier = linear_reg_no_outlier.predict(X_test)\n",
        "\n",
        "print('Mean Absolute whithout outliers:', metrics.mean_absolute_error(y_test, y_pred_no_outlier))\n",
        "print('Mean Squared Error whithout outliers:', metrics.mean_squared_error(y_test, y_pred_no_outlier))\n",
        "print('Root Mean Squared Error whithout outliers:', np.sqrt(metrics.mean_squared_error(y_test, y_pred_no_outlier)))"
      ]
    },
    {
      "cell_type": "markdown",
      "metadata": {
        "id": "qKGUkMyhWymr"
      },
      "source": [
        "##1.14 polynomial Regression"
      ]
    },
    {
      "cell_type": "code",
      "execution_count": null,
      "metadata": {
        "id": "a5Owk6JjWzxn"
      },
      "outputs": [],
      "source": [
        "from sklearn.pipeline import Pipeline\n",
        "from sklearn.preprocessing import PolynomialFeatures #to convert the original features into their higher order terms \n",
        "from sklearn.linear_model import LinearRegression\n",
        "from sklearn.model_selection import cross_val_score"
      ]
    },
    {
      "cell_type": "markdown",
      "metadata": {
        "id": "SQDus2abkdhc"
      },
      "source": [
        "## 1.15 training and evaluating polynomial regression (with ouliers)"
      ]
    },
    {
      "cell_type": "code",
      "execution_count": null,
      "metadata": {
        "colab": {
          "base_uri": "https://localhost:8080/"
        },
        "id": "q4XTYUWrXDY0",
        "outputId": "a3378f07-6aa4-4f75-fd1d-1d8261426743"
      },
      "outputs": [
        {
          "name": "stdout",
          "output_type": "stream",
          "text": [
            "Cross validation score is : [0.88949705 0.90576686 0.87617918]\n",
            "Degree: 2\n",
            "Mean Absolute Error: 1055.4546276083336\n",
            "Mean Squared Error: 3770454.7551768064\n",
            "Root Mean Squared Error: 1941.7658857794381\n",
            "Cross validation score is : [0.88949705 0.90576686 0.87617918]\n",
            "Degree: 3\n",
            "Mean Absolute Error: 1052.0772265072176\n",
            "Mean Squared Error: 3776976.767913053\n",
            "Root Mean Squared Error: 1943.4445626034853\n",
            "Cross validation score is : [0.88949705 0.90576686 0.87617918]\n",
            "Degree: 4\n",
            "Mean Absolute Error: 1125.3144022339193\n",
            "Mean Squared Error: 4978780.643634978\n",
            "Root Mean Squared Error: 2231.318140390334\n",
            "Cross validation score is : [0.88949705 0.90576686 0.87617918]\n",
            "Degree: 5\n",
            "Mean Absolute Error: 1841.3016186124748\n",
            "Mean Squared Error: 73796512.84951514\n",
            "Root Mean Squared Error: 8590.489674606166\n"
          ]
        }
      ],
      "source": [
        "degrees = [2, 3, 4, 5]\n",
        "\n",
        "for i in range(len(degrees)):\n",
        "\n",
        "    polynomial_features = PolynomialFeatures(degree=degrees[i])\n",
        "    linear_regression = LinearRegression()\n",
        "    pipeline = Pipeline([(\"polynomial_features\", polynomial_features),\n",
        "                         (\"linear_regression\", linear_regression)])\n",
        "    pipeline.fit(X_train, y_train)\n",
        "\n",
        "   \n",
        "    y_pred = pipeline.predict(X_test)\n",
        "    cross_val = cross_val_score(linear_regression, X_train, y_train, cv=3)\n",
        "\n",
        "    print(f\"Cross validation score is : {cross_val}\")\n",
        "\n",
        "    print(f\"Degree: {degrees[i]}\")\n",
        "    print('Mean Absolute Error:', metrics.mean_absolute_error(y_test, y_pred))\n",
        "    print('Mean Squared Error:', metrics.mean_squared_error(y_test, y_pred))\n",
        "    print('Root Mean Squared Error:', np.sqrt(metrics.mean_squared_error(y_test, y_pred)))"
      ]
    },
    {
      "cell_type": "markdown",
      "metadata": {
        "id": "lu_JLQblkvZ8"
      },
      "source": [
        "## 1.16 training and evaluating polynomial regression (without ouliers)"
      ]
    },
    {
      "cell_type": "code",
      "execution_count": null,
      "metadata": {
        "colab": {
          "base_uri": "https://localhost:8080/",
          "height": 381
        },
        "id": "unLHrIjBZhLH",
        "outputId": "07ffed6c-594d-4383-f339-d8a559a9d91b"
      },
      "outputs": [
        {
          "name": "stdout",
          "output_type": "stream",
          "text": [
            "Degree: 2\n",
            "Cross validation score is : [0.88949705 0.90576686 0.87617918]\n",
            "Mean Absolute Error: 1083.7078379456561\n",
            "Mean Squared Error: 4971313.44671029\n",
            "Root Mean Squared Error: 2229.6442421853517\n",
            "Degree: 3\n",
            "Cross validation score is : [0.88949705 0.90576686 0.87617918]\n",
            "Mean Absolute Error: 2085.215388817448\n",
            "Mean Squared Error: 2284479435.5794277\n",
            "Root Mean Squared Error: 47796.22825683453\n",
            "Degree: 4\n",
            "Cross validation score is : [0.88949705 0.90576686 0.87617918]\n",
            "Mean Absolute Error: 28706.916566334567\n",
            "Mean Squared Error: 3008886690409.9556\n",
            "Root Mean Squared Error: 1734614.277126173\n",
            "Degree: 5\n",
            "Cross validation score is : [0.88949705 0.90576686 0.87617918]\n",
            "Mean Absolute Error: 1092145.0756675547\n",
            "Mean Squared Error: 1.8265592232850068e+16\n",
            "Root Mean Squared Error: 135150257.98292089\n"
          ]
        },
        {
          "data": {
            "text/plain": [
              "<Figure size 1008x360 with 0 Axes>"
            ]
          },
          "metadata": {},
          "output_type": "display_data"
        }
      ],
      "source": [
        "degrees = [2, 3, 4, 5]\n",
        "\n",
        "plt.figure(figsize=(14, 5))\n",
        "for i in range(len(degrees)):\n",
        "\n",
        "    polynomial_features = PolynomialFeatures(degree=degrees[i])\n",
        "    linear_regression = LinearRegression()\n",
        "    pipeline = Pipeline([(\"polynomial_features\", polynomial_features),\n",
        "                         (\"linear_regression\", linear_regression)])\n",
        "    pipeline.fit(X_train_no_outlier, y_train_no_outlier)\n",
        "    y_pred = pipeline.predict(X_test)\n",
        "\n",
        "    cross_val = cross_val_score(linear_regression, X_train, y_train, cv=3)\n",
        "    print(f\"Degree: {degrees[i]}\")\n",
        "\n",
        "\n",
        "    print(f\"Cross validation score is : {cross_val}\")\n",
        "    print('Mean Absolute Error:', metrics.mean_absolute_error(y_test, y_pred))\n",
        "    print('Mean Squared Error:', metrics.mean_squared_error(y_test, y_pred))\n",
        "    print('Root Mean Squared Error:', np.sqrt(metrics.mean_squared_error(y_test, y_pred)))"
      ]
    },
    {
      "cell_type": "markdown",
      "metadata": {
        "id": "_A2f_7cvosLN"
      },
      "source": [
        "##1.17 multi linear regression with regularization "
      ]
    },
    {
      "cell_type": "code",
      "execution_count": null,
      "metadata": {
        "colab": {
          "base_uri": "https://localhost:8080/"
        },
        "id": "E8as5pEI02bg",
        "outputId": "58c4ef5f-3ba5-4902-f434-546fb161ac78"
      },
      "outputs": [
        {
          "name": "stdout",
          "output_type": "stream",
          "text": [
            "Lasso coef  [ 1.84905225 -1.27931681  0.92477999  0.12576433]\n"
          ]
        }
      ],
      "source": [
        "from sklearn.linear_model import Lasso\n",
        "\n",
        "X_train = bitrate_train_df.drop(['target','rtt_mean','rtt_std','dropped_frames_mean','dropped_frames_max','dropped_frames_std'], axis=1)\n",
        "\n",
        "y_train=bitrate_train_df[[\"target\"]]\n",
        "\n",
        "X_test = bitrate_test_df.drop(['target','rtt_mean','rtt_std','dropped_frames_mean','dropped_frames_max','dropped_frames_std'], axis=1)\n",
        "\n",
        "y_test=bitrate_test_df[['target']]\n",
        "\n",
        "X_train, x_val, y_train, y_val = train_test_split(X_train, y_train, test_size=1/8, random_state=45)\n",
        "\n",
        "lasso = Lasso()\n",
        "lasso.fit(X_train, y_train)\n",
        "\n",
        "print('Lasso coef ', lasso.coef_)"
      ]
    },
    {
      "cell_type": "code",
      "execution_count": null,
      "metadata": {
        "colab": {
          "base_uri": "https://localhost:8080/"
        },
        "id": "QPlRq7Em2IzK",
        "outputId": "bdac1e9e-076a-4e3f-e374-57dabe83a1d1"
      },
      "outputs": [
        {
          "name": "stdout",
          "output_type": "stream",
          "text": [
            "Best value of alpha: 0.1\n"
          ]
        }
      ],
      "source": [
        "from sklearn.metrics import mean_squared_error\n",
        "\n",
        "alphas = [0.1,0.5,0.9,1,1.4,2.2,2.5,3]\n",
        "losses = []\n",
        "for alpha in alphas:\n",
        "    model = Lasso(alpha = alpha).fit(X_train, y_train)\n",
        "    mse = mean_squared_error(model.predict(x_val),y_val)\n",
        "    losses.append(mse)\n",
        "\n",
        "best_alpha = alphas[np.argmin(losses)]\n",
        "print(\"Best value of alpha:\", best_alpha)"
      ]
    },
    {
      "cell_type": "code",
      "execution_count": null,
      "metadata": {
        "colab": {
          "base_uri": "https://localhost:8080/"
        },
        "id": "6YQaRVPH29BR",
        "outputId": "60acd71b-23ba-47d0-b4a4-7b9ba11167e6"
      },
      "outputs": [
        {
          "name": "stdout",
          "output_type": "stream",
          "text": [
            "MSE on test set: 3801448.2796545415\n"
          ]
        }
      ],
      "source": [
        "lasso = Lasso(best_alpha)\n",
        "lasso.fit(X_train, y_train)\n",
        "y_pred = lasso.predict(X_test)\n",
        "print(\"MSE on test set:\", mean_squared_error(y_test, y_pred))"
      ]
    },
    {
      "cell_type": "markdown",
      "metadata": {
        "id": "sBRLHUvU34Xo"
      },
      "source": [
        "# 2  Logistic Regression"
      ]
    },
    {
      "cell_type": "markdown",
      "metadata": {
        "id": "hjoZynHZ86HQ"
      },
      "source": [
        "##2.1 reading and visualization "
      ]
    },
    {
      "cell_type": "code",
      "execution_count": null,
      "metadata": {
        "id": "Y53dSFAo4KVn"
      },
      "outputs": [],
      "source": [
        "#!pip install https://github.com/pandas-profiling/pandas-profiling/archive/master.zip"
      ]
    },
    {
      "cell_type": "code",
      "execution_count": null,
      "metadata": {
        "id": "pVl7v-GX36X8"
      },
      "outputs": [],
      "source": [
        "import pandas as pd\n",
        "import numpy as np\n",
        "import sklearn\n",
        "\n",
        "import matplotlib.pyplot as plt\n",
        "%matplotlib inline"
      ]
    },
    {
      "cell_type": "code",
      "execution_count": null,
      "metadata": {
        "colab": {
          "base_uri": "https://localhost:8080/",
          "height": 363
        },
        "id": "T4LflV-t3-7a",
        "outputId": "b40e3a15-aa27-4b05-9ae6-8211393c4827"
      },
      "outputs": [
        {
          "data": {
            "text/html": [
              "\n",
              "  <div id=\"df-64aa599f-ecb8-4f84-8781-afea68bb1e6d\">\n",
              "    <div class=\"colab-df-container\">\n",
              "      <div>\n",
              "<style scoped>\n",
              "    .dataframe tbody tr th:only-of-type {\n",
              "        vertical-align: middle;\n",
              "    }\n",
              "\n",
              "    .dataframe tbody tr th {\n",
              "        vertical-align: top;\n",
              "    }\n",
              "\n",
              "    .dataframe thead th {\n",
              "        text-align: right;\n",
              "    }\n",
              "</style>\n",
              "<table border=\"1\" class=\"dataframe\">\n",
              "  <thead>\n",
              "    <tr style=\"text-align: right;\">\n",
              "      <th></th>\n",
              "      <th>count</th>\n",
              "      <th>mean</th>\n",
              "      <th>std</th>\n",
              "      <th>min</th>\n",
              "      <th>25%</th>\n",
              "      <th>50%</th>\n",
              "      <th>75%</th>\n",
              "      <th>max</th>\n",
              "    </tr>\n",
              "  </thead>\n",
              "  <tbody>\n",
              "    <tr>\n",
              "      <th>fps_mean</th>\n",
              "      <td>373142.0</td>\n",
              "      <td>35.069812</td>\n",
              "      <td>1.139201e+01</td>\n",
              "      <td>0.0</td>\n",
              "      <td>28.200000</td>\n",
              "      <td>30.000000</td>\n",
              "      <td>44.100000</td>\n",
              "      <td>1.271000e+02</td>\n",
              "    </tr>\n",
              "    <tr>\n",
              "      <th>fps_std</th>\n",
              "      <td>373142.0</td>\n",
              "      <td>2.489203</td>\n",
              "      <td>3.805238e+00</td>\n",
              "      <td>0.0</td>\n",
              "      <td>0.421637</td>\n",
              "      <td>1.229273</td>\n",
              "      <td>2.836273</td>\n",
              "      <td>3.125408e+02</td>\n",
              "    </tr>\n",
              "    <tr>\n",
              "      <th>fps_lags</th>\n",
              "      <td>373142.0</td>\n",
              "      <td>0.097370</td>\n",
              "      <td>5.675634e-01</td>\n",
              "      <td>0.0</td>\n",
              "      <td>0.000000</td>\n",
              "      <td>0.000000</td>\n",
              "      <td>0.000000</td>\n",
              "      <td>1.000000e+01</td>\n",
              "    </tr>\n",
              "    <tr>\n",
              "      <th>rtt_mean</th>\n",
              "      <td>373142.0</td>\n",
              "      <td>57.281921</td>\n",
              "      <td>1.356887e+02</td>\n",
              "      <td>0.0</td>\n",
              "      <td>16.000000</td>\n",
              "      <td>34.000000</td>\n",
              "      <td>59.200000</td>\n",
              "      <td>1.289840e+04</td>\n",
              "    </tr>\n",
              "    <tr>\n",
              "      <th>rtt_std</th>\n",
              "      <td>373142.0</td>\n",
              "      <td>21.229666</td>\n",
              "      <td>1.631101e+02</td>\n",
              "      <td>0.0</td>\n",
              "      <td>0.788811</td>\n",
              "      <td>1.712698</td>\n",
              "      <td>6.196773</td>\n",
              "      <td>4.072193e+04</td>\n",
              "    </tr>\n",
              "    <tr>\n",
              "      <th>dropped_frames_mean</th>\n",
              "      <td>373142.0</td>\n",
              "      <td>346235.005845</td>\n",
              "      <td>2.030192e+07</td>\n",
              "      <td>0.0</td>\n",
              "      <td>0.000000</td>\n",
              "      <td>0.000000</td>\n",
              "      <td>0.000000</td>\n",
              "      <td>2.097289e+09</td>\n",
              "    </tr>\n",
              "    <tr>\n",
              "      <th>dropped_frames_std</th>\n",
              "      <td>373142.0</td>\n",
              "      <td>149161.674525</td>\n",
              "      <td>9.614595e+06</td>\n",
              "      <td>0.0</td>\n",
              "      <td>0.000000</td>\n",
              "      <td>0.000000</td>\n",
              "      <td>0.000000</td>\n",
              "      <td>9.963751e+08</td>\n",
              "    </tr>\n",
              "    <tr>\n",
              "      <th>dropped_frames_max</th>\n",
              "      <td>373142.0</td>\n",
              "      <td>522273.665476</td>\n",
              "      <td>2.749080e+07</td>\n",
              "      <td>0.0</td>\n",
              "      <td>0.000000</td>\n",
              "      <td>0.000000</td>\n",
              "      <td>0.000000</td>\n",
              "      <td>2.097289e+09</td>\n",
              "    </tr>\n",
              "    <tr>\n",
              "      <th>auto_fec_mean</th>\n",
              "      <td>373142.0</td>\n",
              "      <td>51.952779</td>\n",
              "      <td>3.550680e+01</td>\n",
              "      <td>0.0</td>\n",
              "      <td>50.000000</td>\n",
              "      <td>50.000000</td>\n",
              "      <td>50.000000</td>\n",
              "      <td>2.500000e+02</td>\n",
              "    </tr>\n",
              "    <tr>\n",
              "      <th>stream_quality</th>\n",
              "      <td>373142.0</td>\n",
              "      <td>0.063927</td>\n",
              "      <td>2.446239e-01</td>\n",
              "      <td>0.0</td>\n",
              "      <td>0.000000</td>\n",
              "      <td>0.000000</td>\n",
              "      <td>0.000000</td>\n",
              "      <td>1.000000e+00</td>\n",
              "    </tr>\n",
              "  </tbody>\n",
              "</table>\n",
              "</div>\n",
              "      <button class=\"colab-df-convert\" onclick=\"convertToInteractive('df-64aa599f-ecb8-4f84-8781-afea68bb1e6d')\"\n",
              "              title=\"Convert this dataframe to an interactive table.\"\n",
              "              style=\"display:none;\">\n",
              "        \n",
              "  <svg xmlns=\"http://www.w3.org/2000/svg\" height=\"24px\"viewBox=\"0 0 24 24\"\n",
              "       width=\"24px\">\n",
              "    <path d=\"M0 0h24v24H0V0z\" fill=\"none\"/>\n",
              "    <path d=\"M18.56 5.44l.94 2.06.94-2.06 2.06-.94-2.06-.94-.94-2.06-.94 2.06-2.06.94zm-11 1L8.5 8.5l.94-2.06 2.06-.94-2.06-.94L8.5 2.5l-.94 2.06-2.06.94zm10 10l.94 2.06.94-2.06 2.06-.94-2.06-.94-.94-2.06-.94 2.06-2.06.94z\"/><path d=\"M17.41 7.96l-1.37-1.37c-.4-.4-.92-.59-1.43-.59-.52 0-1.04.2-1.43.59L10.3 9.45l-7.72 7.72c-.78.78-.78 2.05 0 2.83L4 21.41c.39.39.9.59 1.41.59.51 0 1.02-.2 1.41-.59l7.78-7.78 2.81-2.81c.8-.78.8-2.07 0-2.86zM5.41 20L4 18.59l7.72-7.72 1.47 1.35L5.41 20z\"/>\n",
              "  </svg>\n",
              "      </button>\n",
              "      \n",
              "  <style>\n",
              "    .colab-df-container {\n",
              "      display:flex;\n",
              "      flex-wrap:wrap;\n",
              "      gap: 12px;\n",
              "    }\n",
              "\n",
              "    .colab-df-convert {\n",
              "      background-color: #E8F0FE;\n",
              "      border: none;\n",
              "      border-radius: 50%;\n",
              "      cursor: pointer;\n",
              "      display: none;\n",
              "      fill: #1967D2;\n",
              "      height: 32px;\n",
              "      padding: 0 0 0 0;\n",
              "      width: 32px;\n",
              "    }\n",
              "\n",
              "    .colab-df-convert:hover {\n",
              "      background-color: #E2EBFA;\n",
              "      box-shadow: 0px 1px 2px rgba(60, 64, 67, 0.3), 0px 1px 3px 1px rgba(60, 64, 67, 0.15);\n",
              "      fill: #174EA6;\n",
              "    }\n",
              "\n",
              "    [theme=dark] .colab-df-convert {\n",
              "      background-color: #3B4455;\n",
              "      fill: #D2E3FC;\n",
              "    }\n",
              "\n",
              "    [theme=dark] .colab-df-convert:hover {\n",
              "      background-color: #434B5C;\n",
              "      box-shadow: 0px 1px 3px 1px rgba(0, 0, 0, 0.15);\n",
              "      filter: drop-shadow(0px 1px 2px rgba(0, 0, 0, 0.3));\n",
              "      fill: #FFFFFF;\n",
              "    }\n",
              "  </style>\n",
              "\n",
              "      <script>\n",
              "        const buttonEl =\n",
              "          document.querySelector('#df-64aa599f-ecb8-4f84-8781-afea68bb1e6d button.colab-df-convert');\n",
              "        buttonEl.style.display =\n",
              "          google.colab.kernel.accessAllowed ? 'block' : 'none';\n",
              "\n",
              "        async function convertToInteractive(key) {\n",
              "          const element = document.querySelector('#df-64aa599f-ecb8-4f84-8781-afea68bb1e6d');\n",
              "          const dataTable =\n",
              "            await google.colab.kernel.invokeFunction('convertToInteractive',\n",
              "                                                     [key], {});\n",
              "          if (!dataTable) return;\n",
              "\n",
              "          const docLinkHtml = 'Like what you see? Visit the ' +\n",
              "            '<a target=\"_blank\" href=https://colab.research.google.com/notebooks/data_table.ipynb>data table notebook</a>'\n",
              "            + ' to learn more about interactive tables.';\n",
              "          element.innerHTML = '';\n",
              "          dataTable['output_type'] = 'display_data';\n",
              "          await google.colab.output.renderOutput(dataTable, element);\n",
              "          const docLink = document.createElement('div');\n",
              "          docLink.innerHTML = docLinkHtml;\n",
              "          element.appendChild(docLink);\n",
              "        }\n",
              "      </script>\n",
              "    </div>\n",
              "  </div>\n",
              "  "
            ],
            "text/plain": [
              "                        count           mean           std  min        25%  \\\n",
              "fps_mean             373142.0      35.069812  1.139201e+01  0.0  28.200000   \n",
              "fps_std              373142.0       2.489203  3.805238e+00  0.0   0.421637   \n",
              "fps_lags             373142.0       0.097370  5.675634e-01  0.0   0.000000   \n",
              "rtt_mean             373142.0      57.281921  1.356887e+02  0.0  16.000000   \n",
              "rtt_std              373142.0      21.229666  1.631101e+02  0.0   0.788811   \n",
              "dropped_frames_mean  373142.0  346235.005845  2.030192e+07  0.0   0.000000   \n",
              "dropped_frames_std   373142.0  149161.674525  9.614595e+06  0.0   0.000000   \n",
              "dropped_frames_max   373142.0  522273.665476  2.749080e+07  0.0   0.000000   \n",
              "auto_fec_mean        373142.0      51.952779  3.550680e+01  0.0  50.000000   \n",
              "stream_quality       373142.0       0.063927  2.446239e-01  0.0   0.000000   \n",
              "\n",
              "                           50%        75%           max  \n",
              "fps_mean             30.000000  44.100000  1.271000e+02  \n",
              "fps_std               1.229273   2.836273  3.125408e+02  \n",
              "fps_lags              0.000000   0.000000  1.000000e+01  \n",
              "rtt_mean             34.000000  59.200000  1.289840e+04  \n",
              "rtt_std               1.712698   6.196773  4.072193e+04  \n",
              "dropped_frames_mean   0.000000   0.000000  2.097289e+09  \n",
              "dropped_frames_std    0.000000   0.000000  9.963751e+08  \n",
              "dropped_frames_max    0.000000   0.000000  2.097289e+09  \n",
              "auto_fec_mean        50.000000  50.000000  2.500000e+02  \n",
              "stream_quality        0.000000   0.000000  1.000000e+00  "
            ]
          },
          "execution_count": 27,
          "metadata": {},
          "output_type": "execute_result"
        }
      ],
      "source": [
        "train_data_df = pd.read_csv('./train_data.csv')\n",
        "test_data_df = pd.read_csv('./test_data.csv')\n",
        "train_data_df.drop_duplicates(inplace=True)\n",
        "train_data_df.describe().T"
      ]
    },
    {
      "cell_type": "code",
      "execution_count": null,
      "metadata": {
        "colab": {
          "base_uri": "https://localhost:8080/",
          "height": 877
        },
        "id": "tW81sA9W0rTL",
        "outputId": "f63fad75-a4c1-479e-f400-c27a81b203ba"
      },
      "outputs": [
        {
          "data": {
            "text/html": [
              "\n",
              "  <div id=\"df-1e4270bb-43ef-4a1c-b4e8-967e0c07701e\">\n",
              "    <div class=\"colab-df-container\">\n",
              "      <div>\n",
              "<style scoped>\n",
              "    .dataframe tbody tr th:only-of-type {\n",
              "        vertical-align: middle;\n",
              "    }\n",
              "\n",
              "    .dataframe tbody tr th {\n",
              "        vertical-align: top;\n",
              "    }\n",
              "\n",
              "    .dataframe thead th {\n",
              "        text-align: right;\n",
              "    }\n",
              "</style>\n",
              "<table border=\"1\" class=\"dataframe\">\n",
              "  <thead>\n",
              "    <tr style=\"text-align: right;\">\n",
              "      <th></th>\n",
              "      <th>fps_mean</th>\n",
              "      <th>fps_std</th>\n",
              "      <th>fps_lags</th>\n",
              "      <th>rtt_mean</th>\n",
              "      <th>rtt_std</th>\n",
              "      <th>dropped_frames_mean</th>\n",
              "      <th>dropped_frames_std</th>\n",
              "      <th>dropped_frames_max</th>\n",
              "      <th>auto_bitrate_state</th>\n",
              "      <th>auto_fec_state</th>\n",
              "      <th>auto_fec_mean</th>\n",
              "      <th>stream_quality</th>\n",
              "    </tr>\n",
              "  </thead>\n",
              "  <tbody>\n",
              "    <tr>\n",
              "      <th>0</th>\n",
              "      <td>24.4</td>\n",
              "      <td>0.516398</td>\n",
              "      <td>0</td>\n",
              "      <td>91.1</td>\n",
              "      <td>6.723921</td>\n",
              "      <td>0.0</td>\n",
              "      <td>0.0</td>\n",
              "      <td>0.0</td>\n",
              "      <td>off</td>\n",
              "      <td>partial</td>\n",
              "      <td>50.0</td>\n",
              "      <td>0</td>\n",
              "    </tr>\n",
              "    <tr>\n",
              "      <th>1</th>\n",
              "      <td>28.6</td>\n",
              "      <td>2.065591</td>\n",
              "      <td>0</td>\n",
              "      <td>99.7</td>\n",
              "      <td>15.923777</td>\n",
              "      <td>0.0</td>\n",
              "      <td>0.0</td>\n",
              "      <td>0.0</td>\n",
              "      <td>off</td>\n",
              "      <td>partial</td>\n",
              "      <td>50.0</td>\n",
              "      <td>0</td>\n",
              "    </tr>\n",
              "    <tr>\n",
              "      <th>2</th>\n",
              "      <td>30.0</td>\n",
              "      <td>0.000000</td>\n",
              "      <td>0</td>\n",
              "      <td>98.1</td>\n",
              "      <td>11.798776</td>\n",
              "      <td>0.0</td>\n",
              "      <td>0.0</td>\n",
              "      <td>0.0</td>\n",
              "      <td>off</td>\n",
              "      <td>partial</td>\n",
              "      <td>50.0</td>\n",
              "      <td>0</td>\n",
              "    </tr>\n",
              "    <tr>\n",
              "      <th>3</th>\n",
              "      <td>30.3</td>\n",
              "      <td>0.948683</td>\n",
              "      <td>0</td>\n",
              "      <td>99.4</td>\n",
              "      <td>13.014522</td>\n",
              "      <td>0.0</td>\n",
              "      <td>0.0</td>\n",
              "      <td>0.0</td>\n",
              "      <td>off</td>\n",
              "      <td>partial</td>\n",
              "      <td>50.0</td>\n",
              "      <td>0</td>\n",
              "    </tr>\n",
              "    <tr>\n",
              "      <th>4</th>\n",
              "      <td>29.9</td>\n",
              "      <td>0.316228</td>\n",
              "      <td>0</td>\n",
              "      <td>123.2</td>\n",
              "      <td>62.476307</td>\n",
              "      <td>0.0</td>\n",
              "      <td>0.0</td>\n",
              "      <td>0.0</td>\n",
              "      <td>off</td>\n",
              "      <td>partial</td>\n",
              "      <td>50.0</td>\n",
              "      <td>0</td>\n",
              "    </tr>\n",
              "    <tr>\n",
              "      <th>5</th>\n",
              "      <td>29.5</td>\n",
              "      <td>1.649916</td>\n",
              "      <td>0</td>\n",
              "      <td>131.2</td>\n",
              "      <td>114.257798</td>\n",
              "      <td>0.0</td>\n",
              "      <td>0.0</td>\n",
              "      <td>0.0</td>\n",
              "      <td>off</td>\n",
              "      <td>partial</td>\n",
              "      <td>50.0</td>\n",
              "      <td>0</td>\n",
              "    </tr>\n",
              "    <tr>\n",
              "      <th>6</th>\n",
              "      <td>24.3</td>\n",
              "      <td>0.483046</td>\n",
              "      <td>0</td>\n",
              "      <td>98.3</td>\n",
              "      <td>16.499495</td>\n",
              "      <td>0.0</td>\n",
              "      <td>0.0</td>\n",
              "      <td>0.0</td>\n",
              "      <td>off</td>\n",
              "      <td>partial</td>\n",
              "      <td>50.0</td>\n",
              "      <td>0</td>\n",
              "    </tr>\n",
              "    <tr>\n",
              "      <th>7</th>\n",
              "      <td>24.5</td>\n",
              "      <td>0.971825</td>\n",
              "      <td>0</td>\n",
              "      <td>141.9</td>\n",
              "      <td>103.814418</td>\n",
              "      <td>0.0</td>\n",
              "      <td>0.0</td>\n",
              "      <td>0.0</td>\n",
              "      <td>off</td>\n",
              "      <td>partial</td>\n",
              "      <td>50.0</td>\n",
              "      <td>0</td>\n",
              "    </tr>\n",
              "    <tr>\n",
              "      <th>8</th>\n",
              "      <td>30.0</td>\n",
              "      <td>0.000000</td>\n",
              "      <td>0</td>\n",
              "      <td>107.5</td>\n",
              "      <td>18.733511</td>\n",
              "      <td>0.0</td>\n",
              "      <td>0.0</td>\n",
              "      <td>0.0</td>\n",
              "      <td>off</td>\n",
              "      <td>partial</td>\n",
              "      <td>50.0</td>\n",
              "      <td>0</td>\n",
              "    </tr>\n",
              "    <tr>\n",
              "      <th>9</th>\n",
              "      <td>30.0</td>\n",
              "      <td>0.471405</td>\n",
              "      <td>0</td>\n",
              "      <td>108.2</td>\n",
              "      <td>10.952422</td>\n",
              "      <td>0.0</td>\n",
              "      <td>0.0</td>\n",
              "      <td>0.0</td>\n",
              "      <td>off</td>\n",
              "      <td>partial</td>\n",
              "      <td>50.0</td>\n",
              "      <td>0</td>\n",
              "    </tr>\n",
              "    <tr>\n",
              "      <th>10</th>\n",
              "      <td>30.0</td>\n",
              "      <td>0.471405</td>\n",
              "      <td>0</td>\n",
              "      <td>124.5</td>\n",
              "      <td>18.992689</td>\n",
              "      <td>0.0</td>\n",
              "      <td>0.0</td>\n",
              "      <td>0.0</td>\n",
              "      <td>off</td>\n",
              "      <td>partial</td>\n",
              "      <td>50.0</td>\n",
              "      <td>0</td>\n",
              "    </tr>\n",
              "    <tr>\n",
              "      <th>11</th>\n",
              "      <td>30.0</td>\n",
              "      <td>0.000000</td>\n",
              "      <td>0</td>\n",
              "      <td>101.7</td>\n",
              "      <td>16.553281</td>\n",
              "      <td>0.0</td>\n",
              "      <td>0.0</td>\n",
              "      <td>0.0</td>\n",
              "      <td>off</td>\n",
              "      <td>partial</td>\n",
              "      <td>50.0</td>\n",
              "      <td>0</td>\n",
              "    </tr>\n",
              "    <tr>\n",
              "      <th>12</th>\n",
              "      <td>29.9</td>\n",
              "      <td>0.316228</td>\n",
              "      <td>0</td>\n",
              "      <td>104.5</td>\n",
              "      <td>21.490308</td>\n",
              "      <td>0.0</td>\n",
              "      <td>0.0</td>\n",
              "      <td>0.0</td>\n",
              "      <td>off</td>\n",
              "      <td>partial</td>\n",
              "      <td>50.0</td>\n",
              "      <td>0</td>\n",
              "    </tr>\n",
              "    <tr>\n",
              "      <th>13</th>\n",
              "      <td>29.9</td>\n",
              "      <td>0.567646</td>\n",
              "      <td>0</td>\n",
              "      <td>103.7</td>\n",
              "      <td>18.850582</td>\n",
              "      <td>0.0</td>\n",
              "      <td>0.0</td>\n",
              "      <td>0.0</td>\n",
              "      <td>off</td>\n",
              "      <td>partial</td>\n",
              "      <td>50.0</td>\n",
              "      <td>0</td>\n",
              "    </tr>\n",
              "    <tr>\n",
              "      <th>14</th>\n",
              "      <td>29.8</td>\n",
              "      <td>0.632456</td>\n",
              "      <td>0</td>\n",
              "      <td>116.6</td>\n",
              "      <td>25.351748</td>\n",
              "      <td>0.0</td>\n",
              "      <td>0.0</td>\n",
              "      <td>0.0</td>\n",
              "      <td>off</td>\n",
              "      <td>partial</td>\n",
              "      <td>50.0</td>\n",
              "      <td>0</td>\n",
              "    </tr>\n",
              "    <tr>\n",
              "      <th>15</th>\n",
              "      <td>30.0</td>\n",
              "      <td>0.000000</td>\n",
              "      <td>0</td>\n",
              "      <td>114.7</td>\n",
              "      <td>25.469153</td>\n",
              "      <td>0.0</td>\n",
              "      <td>0.0</td>\n",
              "      <td>0.0</td>\n",
              "      <td>off</td>\n",
              "      <td>partial</td>\n",
              "      <td>50.0</td>\n",
              "      <td>0</td>\n",
              "    </tr>\n",
              "    <tr>\n",
              "      <th>16</th>\n",
              "      <td>29.4</td>\n",
              "      <td>0.966092</td>\n",
              "      <td>0</td>\n",
              "      <td>126.2</td>\n",
              "      <td>28.962811</td>\n",
              "      <td>0.0</td>\n",
              "      <td>0.0</td>\n",
              "      <td>0.0</td>\n",
              "      <td>off</td>\n",
              "      <td>partial</td>\n",
              "      <td>50.0</td>\n",
              "      <td>0</td>\n",
              "    </tr>\n",
              "    <tr>\n",
              "      <th>17</th>\n",
              "      <td>29.1</td>\n",
              "      <td>1.100505</td>\n",
              "      <td>0</td>\n",
              "      <td>121.9</td>\n",
              "      <td>23.211348</td>\n",
              "      <td>0.0</td>\n",
              "      <td>0.0</td>\n",
              "      <td>0.0</td>\n",
              "      <td>off</td>\n",
              "      <td>partial</td>\n",
              "      <td>50.0</td>\n",
              "      <td>0</td>\n",
              "    </tr>\n",
              "    <tr>\n",
              "      <th>18</th>\n",
              "      <td>29.2</td>\n",
              "      <td>0.788811</td>\n",
              "      <td>0</td>\n",
              "      <td>122.6</td>\n",
              "      <td>45.260235</td>\n",
              "      <td>0.0</td>\n",
              "      <td>0.0</td>\n",
              "      <td>0.0</td>\n",
              "      <td>off</td>\n",
              "      <td>partial</td>\n",
              "      <td>50.0</td>\n",
              "      <td>0</td>\n",
              "    </tr>\n",
              "    <tr>\n",
              "      <th>19</th>\n",
              "      <td>29.5</td>\n",
              "      <td>1.178511</td>\n",
              "      <td>0</td>\n",
              "      <td>114.1</td>\n",
              "      <td>41.527635</td>\n",
              "      <td>0.0</td>\n",
              "      <td>0.0</td>\n",
              "      <td>0.0</td>\n",
              "      <td>off</td>\n",
              "      <td>partial</td>\n",
              "      <td>50.0</td>\n",
              "      <td>0</td>\n",
              "    </tr>\n",
              "    <tr>\n",
              "      <th>20</th>\n",
              "      <td>29.8</td>\n",
              "      <td>1.135292</td>\n",
              "      <td>0</td>\n",
              "      <td>135.1</td>\n",
              "      <td>61.529487</td>\n",
              "      <td>0.0</td>\n",
              "      <td>0.0</td>\n",
              "      <td>0.0</td>\n",
              "      <td>off</td>\n",
              "      <td>partial</td>\n",
              "      <td>50.0</td>\n",
              "      <td>1</td>\n",
              "    </tr>\n",
              "    <tr>\n",
              "      <th>21</th>\n",
              "      <td>29.5</td>\n",
              "      <td>9.958246</td>\n",
              "      <td>1</td>\n",
              "      <td>106.6</td>\n",
              "      <td>28.887521</td>\n",
              "      <td>0.0</td>\n",
              "      <td>0.0</td>\n",
              "      <td>0.0</td>\n",
              "      <td>off</td>\n",
              "      <td>partial</td>\n",
              "      <td>50.0</td>\n",
              "      <td>0</td>\n",
              "    </tr>\n",
              "    <tr>\n",
              "      <th>22</th>\n",
              "      <td>30.1</td>\n",
              "      <td>0.994429</td>\n",
              "      <td>0</td>\n",
              "      <td>92.6</td>\n",
              "      <td>24.802330</td>\n",
              "      <td>0.0</td>\n",
              "      <td>0.0</td>\n",
              "      <td>0.0</td>\n",
              "      <td>off</td>\n",
              "      <td>partial</td>\n",
              "      <td>50.0</td>\n",
              "      <td>0</td>\n",
              "    </tr>\n",
              "    <tr>\n",
              "      <th>23</th>\n",
              "      <td>29.7</td>\n",
              "      <td>1.567021</td>\n",
              "      <td>0</td>\n",
              "      <td>111.6</td>\n",
              "      <td>38.626991</td>\n",
              "      <td>0.0</td>\n",
              "      <td>0.0</td>\n",
              "      <td>0.0</td>\n",
              "      <td>off</td>\n",
              "      <td>partial</td>\n",
              "      <td>50.0</td>\n",
              "      <td>0</td>\n",
              "    </tr>\n",
              "    <tr>\n",
              "      <th>24</th>\n",
              "      <td>30.1</td>\n",
              "      <td>0.316228</td>\n",
              "      <td>0</td>\n",
              "      <td>107.7</td>\n",
              "      <td>30.353656</td>\n",
              "      <td>0.0</td>\n",
              "      <td>0.0</td>\n",
              "      <td>0.0</td>\n",
              "      <td>off</td>\n",
              "      <td>partial</td>\n",
              "      <td>50.0</td>\n",
              "      <td>0</td>\n",
              "    </tr>\n",
              "  </tbody>\n",
              "</table>\n",
              "</div>\n",
              "      <button class=\"colab-df-convert\" onclick=\"convertToInteractive('df-1e4270bb-43ef-4a1c-b4e8-967e0c07701e')\"\n",
              "              title=\"Convert this dataframe to an interactive table.\"\n",
              "              style=\"display:none;\">\n",
              "        \n",
              "  <svg xmlns=\"http://www.w3.org/2000/svg\" height=\"24px\"viewBox=\"0 0 24 24\"\n",
              "       width=\"24px\">\n",
              "    <path d=\"M0 0h24v24H0V0z\" fill=\"none\"/>\n",
              "    <path d=\"M18.56 5.44l.94 2.06.94-2.06 2.06-.94-2.06-.94-.94-2.06-.94 2.06-2.06.94zm-11 1L8.5 8.5l.94-2.06 2.06-.94-2.06-.94L8.5 2.5l-.94 2.06-2.06.94zm10 10l.94 2.06.94-2.06 2.06-.94-2.06-.94-.94-2.06-.94 2.06-2.06.94z\"/><path d=\"M17.41 7.96l-1.37-1.37c-.4-.4-.92-.59-1.43-.59-.52 0-1.04.2-1.43.59L10.3 9.45l-7.72 7.72c-.78.78-.78 2.05 0 2.83L4 21.41c.39.39.9.59 1.41.59.51 0 1.02-.2 1.41-.59l7.78-7.78 2.81-2.81c.8-.78.8-2.07 0-2.86zM5.41 20L4 18.59l7.72-7.72 1.47 1.35L5.41 20z\"/>\n",
              "  </svg>\n",
              "      </button>\n",
              "      \n",
              "  <style>\n",
              "    .colab-df-container {\n",
              "      display:flex;\n",
              "      flex-wrap:wrap;\n",
              "      gap: 12px;\n",
              "    }\n",
              "\n",
              "    .colab-df-convert {\n",
              "      background-color: #E8F0FE;\n",
              "      border: none;\n",
              "      border-radius: 50%;\n",
              "      cursor: pointer;\n",
              "      display: none;\n",
              "      fill: #1967D2;\n",
              "      height: 32px;\n",
              "      padding: 0 0 0 0;\n",
              "      width: 32px;\n",
              "    }\n",
              "\n",
              "    .colab-df-convert:hover {\n",
              "      background-color: #E2EBFA;\n",
              "      box-shadow: 0px 1px 2px rgba(60, 64, 67, 0.3), 0px 1px 3px 1px rgba(60, 64, 67, 0.15);\n",
              "      fill: #174EA6;\n",
              "    }\n",
              "\n",
              "    [theme=dark] .colab-df-convert {\n",
              "      background-color: #3B4455;\n",
              "      fill: #D2E3FC;\n",
              "    }\n",
              "\n",
              "    [theme=dark] .colab-df-convert:hover {\n",
              "      background-color: #434B5C;\n",
              "      box-shadow: 0px 1px 3px 1px rgba(0, 0, 0, 0.15);\n",
              "      filter: drop-shadow(0px 1px 2px rgba(0, 0, 0, 0.3));\n",
              "      fill: #FFFFFF;\n",
              "    }\n",
              "  </style>\n",
              "\n",
              "      <script>\n",
              "        const buttonEl =\n",
              "          document.querySelector('#df-1e4270bb-43ef-4a1c-b4e8-967e0c07701e button.colab-df-convert');\n",
              "        buttonEl.style.display =\n",
              "          google.colab.kernel.accessAllowed ? 'block' : 'none';\n",
              "\n",
              "        async function convertToInteractive(key) {\n",
              "          const element = document.querySelector('#df-1e4270bb-43ef-4a1c-b4e8-967e0c07701e');\n",
              "          const dataTable =\n",
              "            await google.colab.kernel.invokeFunction('convertToInteractive',\n",
              "                                                     [key], {});\n",
              "          if (!dataTable) return;\n",
              "\n",
              "          const docLinkHtml = 'Like what you see? Visit the ' +\n",
              "            '<a target=\"_blank\" href=https://colab.research.google.com/notebooks/data_table.ipynb>data table notebook</a>'\n",
              "            + ' to learn more about interactive tables.';\n",
              "          element.innerHTML = '';\n",
              "          dataTable['output_type'] = 'display_data';\n",
              "          await google.colab.output.renderOutput(dataTable, element);\n",
              "          const docLink = document.createElement('div');\n",
              "          docLink.innerHTML = docLinkHtml;\n",
              "          element.appendChild(docLink);\n",
              "        }\n",
              "      </script>\n",
              "    </div>\n",
              "  </div>\n",
              "  "
            ],
            "text/plain": [
              "    fps_mean   fps_std  fps_lags  rtt_mean     rtt_std  dropped_frames_mean  \\\n",
              "0       24.4  0.516398         0      91.1    6.723921                  0.0   \n",
              "1       28.6  2.065591         0      99.7   15.923777                  0.0   \n",
              "2       30.0  0.000000         0      98.1   11.798776                  0.0   \n",
              "3       30.3  0.948683         0      99.4   13.014522                  0.0   \n",
              "4       29.9  0.316228         0     123.2   62.476307                  0.0   \n",
              "5       29.5  1.649916         0     131.2  114.257798                  0.0   \n",
              "6       24.3  0.483046         0      98.3   16.499495                  0.0   \n",
              "7       24.5  0.971825         0     141.9  103.814418                  0.0   \n",
              "8       30.0  0.000000         0     107.5   18.733511                  0.0   \n",
              "9       30.0  0.471405         0     108.2   10.952422                  0.0   \n",
              "10      30.0  0.471405         0     124.5   18.992689                  0.0   \n",
              "11      30.0  0.000000         0     101.7   16.553281                  0.0   \n",
              "12      29.9  0.316228         0     104.5   21.490308                  0.0   \n",
              "13      29.9  0.567646         0     103.7   18.850582                  0.0   \n",
              "14      29.8  0.632456         0     116.6   25.351748                  0.0   \n",
              "15      30.0  0.000000         0     114.7   25.469153                  0.0   \n",
              "16      29.4  0.966092         0     126.2   28.962811                  0.0   \n",
              "17      29.1  1.100505         0     121.9   23.211348                  0.0   \n",
              "18      29.2  0.788811         0     122.6   45.260235                  0.0   \n",
              "19      29.5  1.178511         0     114.1   41.527635                  0.0   \n",
              "20      29.8  1.135292         0     135.1   61.529487                  0.0   \n",
              "21      29.5  9.958246         1     106.6   28.887521                  0.0   \n",
              "22      30.1  0.994429         0      92.6   24.802330                  0.0   \n",
              "23      29.7  1.567021         0     111.6   38.626991                  0.0   \n",
              "24      30.1  0.316228         0     107.7   30.353656                  0.0   \n",
              "\n",
              "    dropped_frames_std  dropped_frames_max auto_bitrate_state auto_fec_state  \\\n",
              "0                  0.0                 0.0                off        partial   \n",
              "1                  0.0                 0.0                off        partial   \n",
              "2                  0.0                 0.0                off        partial   \n",
              "3                  0.0                 0.0                off        partial   \n",
              "4                  0.0                 0.0                off        partial   \n",
              "5                  0.0                 0.0                off        partial   \n",
              "6                  0.0                 0.0                off        partial   \n",
              "7                  0.0                 0.0                off        partial   \n",
              "8                  0.0                 0.0                off        partial   \n",
              "9                  0.0                 0.0                off        partial   \n",
              "10                 0.0                 0.0                off        partial   \n",
              "11                 0.0                 0.0                off        partial   \n",
              "12                 0.0                 0.0                off        partial   \n",
              "13                 0.0                 0.0                off        partial   \n",
              "14                 0.0                 0.0                off        partial   \n",
              "15                 0.0                 0.0                off        partial   \n",
              "16                 0.0                 0.0                off        partial   \n",
              "17                 0.0                 0.0                off        partial   \n",
              "18                 0.0                 0.0                off        partial   \n",
              "19                 0.0                 0.0                off        partial   \n",
              "20                 0.0                 0.0                off        partial   \n",
              "21                 0.0                 0.0                off        partial   \n",
              "22                 0.0                 0.0                off        partial   \n",
              "23                 0.0                 0.0                off        partial   \n",
              "24                 0.0                 0.0                off        partial   \n",
              "\n",
              "    auto_fec_mean  stream_quality  \n",
              "0            50.0               0  \n",
              "1            50.0               0  \n",
              "2            50.0               0  \n",
              "3            50.0               0  \n",
              "4            50.0               0  \n",
              "5            50.0               0  \n",
              "6            50.0               0  \n",
              "7            50.0               0  \n",
              "8            50.0               0  \n",
              "9            50.0               0  \n",
              "10           50.0               0  \n",
              "11           50.0               0  \n",
              "12           50.0               0  \n",
              "13           50.0               0  \n",
              "14           50.0               0  \n",
              "15           50.0               0  \n",
              "16           50.0               0  \n",
              "17           50.0               0  \n",
              "18           50.0               0  \n",
              "19           50.0               0  \n",
              "20           50.0               1  \n",
              "21           50.0               0  \n",
              "22           50.0               0  \n",
              "23           50.0               0  \n",
              "24           50.0               0  "
            ]
          },
          "execution_count": 28,
          "metadata": {},
          "output_type": "execute_result"
        }
      ],
      "source": [
        "train_data_df.head(25)"
      ]
    },
    {
      "cell_type": "markdown",
      "metadata": {
        "id": "SgquBDol9EsC"
      },
      "source": [
        "##2.2 profiling data"
      ]
    },
    {
      "cell_type": "code",
      "execution_count": null,
      "metadata": {
        "id": "BCA29Krd4Ns2"
      },
      "outputs": [],
      "source": [
        "from pandas_profiling import ProfileReport\n",
        "report = ProfileReport(train_data_df)\n",
        "report.to_file('train_data_report.html')"
      ]
    },
    {
      "cell_type": "markdown",
      "metadata": {
        "id": "Sy4osW6j_7HP"
      },
      "source": [
        "##2.3 balancing data"
      ]
    },
    {
      "cell_type": "code",
      "execution_count": null,
      "metadata": {
        "colab": {
          "base_uri": "https://localhost:8080/"
        },
        "id": "a_mQtbGe_44W",
        "outputId": "21501d4b-9381-4df1-f52b-85e47d741f9e"
      },
      "outputs": [
        {
          "name": "stdout",
          "output_type": "stream",
          "text": [
            "349288\n",
            "23854\n",
            "349288\n"
          ]
        }
      ],
      "source": [
        "train_data_df_0 = train_data_df[train_data_df['stream_quality'] == 0]\n",
        "train_data_df_1 = train_data_df[train_data_df['stream_quality'] == 1]\n",
        "\n",
        "\n",
        "print(len(train_data_df_0.index))\n",
        "print(len(train_data_df_1.index))\n",
        "train_data_df_1_over = train_data_df_1.sample(len(train_data_df_0.index), replace=True)#up-sample\n",
        "print(len(train_data_df_1_over.index))\n",
        "\n",
        "train_data_df = pd.concat([train_data_df_0, train_data_df_1_over], axis=0)\n"
      ]
    },
    {
      "cell_type": "markdown",
      "metadata": {
        "id": "DMByVwxBAIjI"
      },
      "source": [
        "##2.4 Feature Selection"
      ]
    },
    {
      "cell_type": "code",
      "execution_count": null,
      "metadata": {
        "id": "1-l2VDFfAKd5"
      },
      "outputs": [],
      "source": [
        "from sklearn.impute import SimpleImputer\n",
        "from category_encoders import OneHotEncoder\n",
        "from sklearn.preprocessing import MinMaxScaler\n",
        "from sklearn.model_selection import train_test_split\n",
        " \n",
        "x_train=train_data_df.drop(['fps_mean','rtt_mean','rtt_std','auto_fec_mean'], axis = 1)\n",
        "\n",
        "x_test=test_data_df.drop(['fps_mean','rtt_mean','rtt_std','auto_fec_mean'], axis = 1)\n"
      ]
    },
    {
      "cell_type": "markdown",
      "metadata": {
        "id": "kXm5FQ549_Nh"
      },
      "source": [
        "##2.5 Principal Component Analysis "
      ]
    },
    {
      "cell_type": "code",
      "execution_count": null,
      "metadata": {
        "colab": {
          "background_save": true
        },
        "id": "IGniYt9-AfwH"
      },
      "outputs": [],
      "source": [
        "import plotly.express as px\n",
        "from sklearn.decomposition import PCA\n",
        "\n",
        "x_train_1=x_train[['fps_std', 'fps_lags', 'dropped_frames_mean', 'dropped_frames_std','dropped_frames_max']]\n",
        "y_train_1=train_data_df['stream_quality']\n",
        "\n",
        "pca = PCA(n_components=2)\n",
        "components = pca.fit_transform(x_train_1,y_train_1)\n",
        "\n",
        "fig = px.scatter(components, x=0, y=1)\n",
        "fig.show()\n",
        "\n",
        "\n",
        "print('Mean : ',pca.mean_)\n",
        "print('explained variance : ',pca.explained_variance_)\n",
        "print('explained variance ratio: ',pca.explained_variance_ratio_)"
      ]
    },
    {
      "cell_type": "markdown",
      "metadata": {
        "id": "JsKlc3pIC2BT"
      },
      "source": [
        "##2.6 feature encoding"
      ]
    },
    {
      "cell_type": "code",
      "execution_count": null,
      "metadata": {
        "id": "hqZJdT2vAs49"
      },
      "outputs": [],
      "source": [
        "from category_encoders import OneHotEncoder\n",
        "\n",
        "# encode categorical features\n",
        "features_to_encode = ['auto_bitrate_state','auto_fec_state']\n",
        "encoder = OneHotEncoder(cols=features_to_encode)\n",
        "\n",
        "encoder.fit(x_train)\n",
        "\n",
        "x_train_enc = encoder.transform(x_train)\n",
        "x_test_enc = encoder.transform(x_test)\n",
        "\n",
        "#print(x_train_enc)\n"
      ]
    },
    {
      "cell_type": "markdown",
      "metadata": {
        "id": "bmXYVkyvDBoa"
      },
      "source": [
        "##2.7 Feature scaling"
      ]
    },
    {
      "cell_type": "code",
      "execution_count": 42,
      "metadata": {
        "id": "7t5uAytbDAdo"
      },
      "outputs": [],
      "source": [
        "# feature scaling using MinMaxScaler\n",
        "scaler = MinMaxScaler().fit(x_train_enc)\n",
        "x_train = pd.DataFrame(scaler.transform(x_train_enc), columns=x_train_enc.columns)\n",
        "scaler = MinMaxScaler().fit(x_test_enc)\n",
        "x_test = pd.DataFrame(scaler.transform(x_test_enc), columns=x_test_enc.columns)\n",
        "\n"
      ]
    },
    {
      "cell_type": "markdown",
      "metadata": {
        "id": "eM1x6fE2DP_3"
      },
      "source": [
        "##2.8 fiting and evalueting LR"
      ]
    },
    {
      "cell_type": "code",
      "execution_count": 43,
      "metadata": {
        "colab": {
          "base_uri": "https://localhost:8080/"
        },
        "id": "OdPonWzA5RVs",
        "outputId": "0649d270-bb99-4056-acb9-57804597e10f"
      },
      "outputs": [
        {
          "output_type": "stream",
          "name": "stderr",
          "text": [
            "/usr/local/lib/python3.7/dist-packages/sklearn/utils/validation.py:993: DataConversionWarning:\n",
            "\n",
            "A column-vector y was passed when a 1d array was expected. Please change the shape of y to (n_samples, ), for example using ravel().\n",
            "\n"
          ]
        },
        {
          "output_type": "stream",
          "name": "stdout",
          "text": [
            "Testing accuracy = 0.7868355802229922\n",
            "Testing precision = 0.17228654124457307\n",
            "Testing recall = 0.6068561233592455\n",
            "Testing f1_score = 0.2683799701299067\n"
          ]
        }
      ],
      "source": [
        "from sklearn.linear_model import LogisticRegression\n",
        "from sklearn import metrics\n",
        "\n",
        "\n",
        "y_train=x_train[['stream_quality']]\n",
        "y_test=x_test[['stream_quality']]\n",
        "\n",
        "x_train=x_train.drop(['stream_quality'], axis = 1)\n",
        "x_test=x_test.drop(['stream_quality'], axis = 1)\n",
        "\n",
        "# fit Logistic Regression\n",
        "logisticRegression = LogisticRegression(random_state=0).fit(x_train, y_train)\n",
        "y_test_pred = logisticRegression.predict(x_test)\n",
        "\n",
        "# calculate metrics\n",
        "print('Testing accuracy = {}'.format(metrics.accuracy_score(y_test, y_test_pred)))\n",
        "print('Testing precision = {}'.format(metrics.precision_score(y_test, y_test_pred)))\n",
        "print('Testing recall = {}'.format(metrics.recall_score(y_test, y_test_pred)))\n",
        "print('Testing f1_score = {}'.format(metrics.f1_score(y_test, y_test_pred)))\n",
        "\n"
      ]
    },
    {
      "cell_type": "markdown",
      "metadata": {
        "id": "X81Q73j7Do5Q"
      },
      "source": [
        "##2.9 calculating matrices for different threshold"
      ]
    },
    {
      "cell_type": "code",
      "execution_count": null,
      "metadata": {
        "colab": {
          "background_save": true
        },
        "id": "wSrTt7kj5iKL"
      },
      "outputs": [],
      "source": [
        "#calculate metrics for each threshold above and plot the result as below.\n",
        "thresholds = [0.1,0.2,0.3,0.4,0.5,0.6,0.7,0.8,0.9]\n",
        "pred_proba = logisticRegression.predict_proba(x_test)\n",
        "\n",
        "results = [[],[],[],[]]\n",
        "for i in thresholds:\n",
        "    y_test_pred_thr = np.where(pred_proba[:, 1] > i, 1, 0)\n",
        "    results[0].append(metrics.accuracy_score(y_test, y_test_pred_thr))\n",
        "    results[1].append(metrics.precision_score(y_test, y_test_pred_thr))\n",
        "    results[2].append(metrics.recall_score(y_test, y_test_pred_thr))\n",
        "    results[3].append(metrics.f1_score(y_test, y_test_pred_thr))\n",
        "\n",
        "plt.plot(thresholds, results[0], label = 'accuracy')   \n",
        "plt.plot(thresholds, results[1], label = 'precision')   \n",
        "plt.plot(thresholds, results[2], label = 'recall')\n",
        "plt.plot(thresholds, results[3], label = 'f1_score')\n",
        "\n",
        "plt.title('Threshold Selection')\n",
        "plt.xlabel('threshold')\n",
        "plt.ylabel('score')\n",
        "plt.legend()\n",
        "plt.grid()"
      ]
    },
    {
      "cell_type": "markdown",
      "metadata": {
        "id": "eoSJcfSgE_AM"
      },
      "source": [
        "##2.10 Confusion matrix"
      ]
    },
    {
      "cell_type": "code",
      "execution_count": null,
      "metadata": {
        "colab": {
          "background_save": true
        },
        "id": "Hx6OulPe5xVB"
      },
      "outputs": [],
      "source": [
        "from sklearn.metrics import confusion_matrix\n",
        "from sklearn.metrics import plot_confusion_matrix\n",
        "\n",
        "print('sklearn Confusion Matrix :\\n', confusion_matrix(y_test, y_test_pred))\n",
        "plot_confusion_matrix(logisticRegression, x_test, y_test)  \n",
        "plt.show()"
      ]
    }
  ],
  "metadata": {
    "colab": {
      "collapsed_sections": [],
      "provenance": []
    },
    "kernelspec": {
      "display_name": "Python 3",
      "name": "python3"
    },
    "language_info": {
      "name": "python"
    }
  },
  "nbformat": 4,
  "nbformat_minor": 0
}